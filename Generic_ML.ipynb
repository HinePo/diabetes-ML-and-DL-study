{
  "nbformat": 4,
  "nbformat_minor": 0,
  "metadata": {
    "colab": {
      "name": "Generic_ML.ipynb",
      "provenance": [],
      "collapsed_sections": [],
      "toc_visible": true,
      "mount_file_id": "1cX2VkqODbT8KUNNF0Ik3rRmzfqpopQd0",
      "authorship_tag": "ABX9TyOD/13pE8L1/DXnN3Eht+rZ",
      "include_colab_link": true
    },
    "kernelspec": {
      "name": "python3",
      "display_name": "Python 3"
    }
  },
  "cells": [
    {
      "cell_type": "markdown",
      "metadata": {
        "id": "view-in-github",
        "colab_type": "text"
      },
      "source": [
        "<a href=\"https://colab.research.google.com/github/HinePo/diabetes-ML-and-DL-study/blob/master/Generic_ML.ipynb\" target=\"_parent\"><img src=\"https://colab.research.google.com/assets/colab-badge.svg\" alt=\"Open In Colab\"/></a>"
      ]
    },
    {
      "cell_type": "markdown",
      "metadata": {
        "id": "0pRvmIj6rkMG",
        "colab_type": "text"
      },
      "source": [
        "#### Description"
      ]
    },
    {
      "cell_type": "markdown",
      "metadata": {
        "id": "3dJkSErxrppp",
        "colab_type": "text"
      },
      "source": [
        "This notebook applies some machine learning and deep learning algorithms and techniques to predict if a person has diabetes or not. It is contained: \n",
        "\n",
        "1. Applications for many algorithms\n",
        "2. Graph/Plot accuracy from models\n",
        "3. Training the best model\n",
        "4. Predictions \n",
        "\n",
        "Dataset can be found in\n",
        "https://www.kaggle.com/uciml/pima-indians-diabetes-database\n",
        "\n",
        "\n",
        "Since this is not intended to be a data pre-processing material, I chose a nice and clean dataset, that will save some time. It is also very small, only 23 KB, and 768 rows and 9 columns. But it will do ok as a generic example to make AI predictions.\n",
        "\n",
        "\n",
        "The ideia is to make it easier to do AI analysis and predictions on any clean enough datasets. It can also be useful once you've already done the data cleaning and features selection processes.\n",
        "\n",
        "You should be able to use this notebook on any other csv dataset, just by:\n",
        "1. importing a differente file\n",
        "2. keeping the names of the variables\n",
        "3. selecting different features and target from the dataset\n",
        "\n",
        "Some awesome datasets are available on Kaggle: https://www.kaggle.com/data\n",
        "\n",
        "Happy coding,\n",
        "\n",
        "HinePo.\n"
      ]
    },
    {
      "cell_type": "markdown",
      "metadata": {
        "id": "U9J-6nSpi-gF",
        "colab_type": "text"
      },
      "source": [
        "#### Importing"
      ]
    },
    {
      "cell_type": "code",
      "metadata": {
        "id": "NwVlQUlchqGk",
        "colab_type": "code",
        "colab": {}
      },
      "source": [
        "import pandas as pd\n",
        "import numpy as np\n",
        "import matplotlib.pyplot as plt\n",
        "\n",
        "from sklearn.model_selection import train_test_split, cross_val_score\n",
        "from sklearn.metrics import confusion_matrix"
      ],
      "execution_count": 0,
      "outputs": []
    },
    {
      "cell_type": "markdown",
      "metadata": {
        "id": "VS0NLRAfjGw7",
        "colab_type": "text"
      },
      "source": [
        "#### Loading dataset"
      ]
    },
    {
      "cell_type": "code",
      "metadata": {
        "id": "_q16EdcqklYT",
        "colab_type": "code",
        "colab": {}
      },
      "source": [
        "# loading csv file\n",
        "# Make sure the path below is where the csv file is (where you uploaded the file)\n",
        "\n",
        "\n",
        "# you can also mount your drive on left menu:\n",
        "# copy csv file/dataset to a folder in your google drive \n",
        "# on google colab go to the left menu, click Files, and then locate the file on your google drive folder\n",
        "# right click it and copy path. then change the string below by pasting the path\n",
        "names = ['Pregnancies' ,'Glucose', 'BloodPressure', 'SkinThickness', 'Insulin', 'BMI', 'DiabetesPedigree', 'Age', 'Outcome' ]\n",
        "df = pd.read_csv('/content/drive/My Drive/Colab Files/diabetes.csv', names = names)"
      ],
      "execution_count": 0,
      "outputs": []
    },
    {
      "cell_type": "code",
      "metadata": {
        "id": "KckwcVSNsU-C",
        "colab_type": "code",
        "outputId": "e994ae5d-f912-414b-f4d0-9a1b7ec420f8",
        "colab": {
          "base_uri": "https://localhost:8080/",
          "height": 204
        }
      },
      "source": [
        "df.head()"
      ],
      "execution_count": 0,
      "outputs": [
        {
          "output_type": "execute_result",
          "data": {
            "text/html": [
              "<div>\n",
              "<style scoped>\n",
              "    .dataframe tbody tr th:only-of-type {\n",
              "        vertical-align: middle;\n",
              "    }\n",
              "\n",
              "    .dataframe tbody tr th {\n",
              "        vertical-align: top;\n",
              "    }\n",
              "\n",
              "    .dataframe thead th {\n",
              "        text-align: right;\n",
              "    }\n",
              "</style>\n",
              "<table border=\"1\" class=\"dataframe\">\n",
              "  <thead>\n",
              "    <tr style=\"text-align: right;\">\n",
              "      <th></th>\n",
              "      <th>Pregnancies</th>\n",
              "      <th>Glucose</th>\n",
              "      <th>BloodPressure</th>\n",
              "      <th>SkinThickness</th>\n",
              "      <th>Insulin</th>\n",
              "      <th>BMI</th>\n",
              "      <th>DiabetesPedigree</th>\n",
              "      <th>Age</th>\n",
              "      <th>Outcome</th>\n",
              "    </tr>\n",
              "  </thead>\n",
              "  <tbody>\n",
              "    <tr>\n",
              "      <th>0</th>\n",
              "      <td>6</td>\n",
              "      <td>148</td>\n",
              "      <td>72</td>\n",
              "      <td>35</td>\n",
              "      <td>0</td>\n",
              "      <td>33.6</td>\n",
              "      <td>0.627</td>\n",
              "      <td>50</td>\n",
              "      <td>1</td>\n",
              "    </tr>\n",
              "    <tr>\n",
              "      <th>1</th>\n",
              "      <td>1</td>\n",
              "      <td>85</td>\n",
              "      <td>66</td>\n",
              "      <td>29</td>\n",
              "      <td>0</td>\n",
              "      <td>26.6</td>\n",
              "      <td>0.351</td>\n",
              "      <td>31</td>\n",
              "      <td>0</td>\n",
              "    </tr>\n",
              "    <tr>\n",
              "      <th>2</th>\n",
              "      <td>8</td>\n",
              "      <td>183</td>\n",
              "      <td>64</td>\n",
              "      <td>0</td>\n",
              "      <td>0</td>\n",
              "      <td>23.3</td>\n",
              "      <td>0.672</td>\n",
              "      <td>32</td>\n",
              "      <td>1</td>\n",
              "    </tr>\n",
              "    <tr>\n",
              "      <th>3</th>\n",
              "      <td>1</td>\n",
              "      <td>89</td>\n",
              "      <td>66</td>\n",
              "      <td>23</td>\n",
              "      <td>94</td>\n",
              "      <td>28.1</td>\n",
              "      <td>0.167</td>\n",
              "      <td>21</td>\n",
              "      <td>0</td>\n",
              "    </tr>\n",
              "    <tr>\n",
              "      <th>4</th>\n",
              "      <td>0</td>\n",
              "      <td>137</td>\n",
              "      <td>40</td>\n",
              "      <td>35</td>\n",
              "      <td>168</td>\n",
              "      <td>43.1</td>\n",
              "      <td>2.288</td>\n",
              "      <td>33</td>\n",
              "      <td>1</td>\n",
              "    </tr>\n",
              "  </tbody>\n",
              "</table>\n",
              "</div>"
            ],
            "text/plain": [
              "   Pregnancies  Glucose  BloodPressure  ...  DiabetesPedigree  Age  Outcome\n",
              "0            6      148             72  ...             0.627   50        1\n",
              "1            1       85             66  ...             0.351   31        0\n",
              "2            8      183             64  ...             0.672   32        1\n",
              "3            1       89             66  ...             0.167   21        0\n",
              "4            0      137             40  ...             2.288   33        1\n",
              "\n",
              "[5 rows x 9 columns]"
            ]
          },
          "metadata": {
            "tags": []
          },
          "execution_count": 249
        }
      ]
    },
    {
      "cell_type": "code",
      "metadata": {
        "id": "dWUUxmYSMUIV",
        "colab_type": "code",
        "outputId": "4fb81eb6-4451-4e6d-dfca-c926c7ae6d11",
        "colab": {
          "base_uri": "https://localhost:8080/",
          "height": 34
        }
      },
      "source": [
        "df.shape"
      ],
      "execution_count": 0,
      "outputs": [
        {
          "output_type": "execute_result",
          "data": {
            "text/plain": [
              "(768, 9)"
            ]
          },
          "metadata": {
            "tags": []
          },
          "execution_count": 250
        }
      ]
    },
    {
      "cell_type": "code",
      "metadata": {
        "id": "cvsXnN96mbXV",
        "colab_type": "code",
        "colab": {}
      },
      "source": [
        "# loading csv via numpy\n",
        "# optional. another way to load the data\n",
        "# ds = np.loadtxt('/content/drive/My Drive/Colab Files/diabetes.csv', delimiter = ',')\n",
        "# ds.shape\n",
        "\n",
        "# slice:\n",
        "# X = ds[:,0:8]\n",
        "# y = ds[:,8]"
      ],
      "execution_count": 0,
      "outputs": []
    },
    {
      "cell_type": "markdown",
      "metadata": {
        "id": "NjUPvX8NjQic",
        "colab_type": "text"
      },
      "source": [
        "The dataset is pretty clean, so it will save a bit of time with handling the data."
      ]
    },
    {
      "cell_type": "markdown",
      "metadata": {
        "id": "bJc2IpsKkHpH",
        "colab_type": "text"
      },
      "source": [
        "### Defining features and target"
      ]
    },
    {
      "cell_type": "code",
      "metadata": {
        "id": "yycLy05hsaXI",
        "colab_type": "code",
        "outputId": "bf9dba75-1f0a-4f12-f85a-9eb04ddd7532",
        "colab": {
          "base_uri": "https://localhost:8080/",
          "height": 68
        }
      },
      "source": [
        "# use the dataframe variable to create an array with the columns names \n",
        "all_vars = np.array(df.columns)\n",
        "all_vars"
      ],
      "execution_count": 0,
      "outputs": [
        {
          "output_type": "execute_result",
          "data": {
            "text/plain": [
              "array(['Pregnancies', 'Glucose', 'BloodPressure', 'SkinThickness',\n",
              "       'Insulin', 'BMI', 'DiabetesPedigree', 'Age', 'Outcome'],\n",
              "      dtype=object)"
            ]
          },
          "metadata": {
            "tags": []
          },
          "execution_count": 251
        }
      ]
    },
    {
      "cell_type": "markdown",
      "metadata": {
        "id": "SAa0dt9lnaIB",
        "colab_type": "text"
      },
      "source": [
        "We will use the following eight variables to predict diabetes:\n",
        "\n",
        "- Number of times pregnant\n",
        "- Glucose\n",
        "- Blood pressure\n",
        "- Skin thickness\n",
        "- Insulin\n",
        "- Body mass index\n",
        "- Diabetes pedigree function\n",
        "- Age"
      ]
    },
    {
      "cell_type": "code",
      "metadata": {
        "id": "0rgtOGN5tbgC",
        "colab_type": "code",
        "outputId": "2a8d5e63-4290-4187-bdf6-6031e3c54849",
        "colab": {
          "base_uri": "https://localhost:8080/",
          "height": 34
        }
      },
      "source": [
        "# now that we have an array, we can slice it to define the features variable\n",
        "# features: columns the classifier will use to predict\n",
        "features = np.array(all_vars[0:8])\n",
        "features.shape"
      ],
      "execution_count": 0,
      "outputs": [
        {
          "output_type": "execute_result",
          "data": {
            "text/plain": [
              "(8,)"
            ]
          },
          "metadata": {
            "tags": []
          },
          "execution_count": 252
        }
      ]
    },
    {
      "cell_type": "markdown",
      "metadata": {
        "id": "tNgDCa3coMhl",
        "colab_type": "text"
      },
      "source": [
        "Diabetes (outcome column) will be the target/predicted variable."
      ]
    },
    {
      "cell_type": "code",
      "metadata": {
        "id": "v5N_5iGUtwh5",
        "colab_type": "code",
        "outputId": "5ef1ad24-88ff-41d0-ad57-11ab6ecc935d",
        "colab": {
          "base_uri": "https://localhost:8080/",
          "height": 34
        }
      },
      "source": [
        "# define target variable\n",
        "# target: column we want to predict\n",
        "target = np.array(all_vars[8])\n",
        "target"
      ],
      "execution_count": 0,
      "outputs": [
        {
          "output_type": "execute_result",
          "data": {
            "text/plain": [
              "array('Outcome', dtype='<U7')"
            ]
          },
          "metadata": {
            "tags": []
          },
          "execution_count": 253
        }
      ]
    },
    {
      "cell_type": "markdown",
      "metadata": {
        "id": "AbzT6YtfuKJG",
        "colab_type": "text"
      },
      "source": [
        "### Splitting the dataset"
      ]
    },
    {
      "cell_type": "code",
      "metadata": {
        "id": "AfN7vqulnpvj",
        "colab_type": "code",
        "colab": {}
      },
      "source": [
        "# split dataset using arrays as filters\n",
        "X_train, X_test, y_train, y_test = train_test_split(df[features], df[target], test_size = 0.2,\n",
        "                                                      stratify = df[target], random_state = 0)"
      ],
      "execution_count": 0,
      "outputs": []
    },
    {
      "cell_type": "code",
      "metadata": {
        "id": "Cj9Q1k7kp2qc",
        "colab_type": "code",
        "colab": {}
      },
      "source": [
        "# Creating variables to store the results\n",
        "all_models = np.array([])\n",
        "all_scores = np.array([])"
      ],
      "execution_count": 0,
      "outputs": []
    },
    {
      "cell_type": "code",
      "metadata": {
        "id": "XaUte6JNrl0N",
        "colab_type": "code",
        "outputId": "644b0644-d859-4a36-ea41-6571bcb08cb2",
        "colab": {
          "base_uri": "https://localhost:8080/",
          "height": 34
        }
      },
      "source": [
        "all_models"
      ],
      "execution_count": 0,
      "outputs": [
        {
          "output_type": "execute_result",
          "data": {
            "text/plain": [
              "array([], dtype=float64)"
            ]
          },
          "metadata": {
            "tags": []
          },
          "execution_count": 256
        }
      ]
    },
    {
      "cell_type": "markdown",
      "metadata": {
        "id": "IqpxnJuYCxV9",
        "colab_type": "text"
      },
      "source": [
        "### Evaluation functions"
      ]
    },
    {
      "cell_type": "code",
      "metadata": {
        "id": "B1qkYG2fCFP0",
        "colab_type": "code",
        "colab": {}
      },
      "source": [
        "# define function to evaluate confusion matrix, after we call the fit method on the chosen algorithm\n",
        "\n",
        "def acc_cm(confusion_matrix):\n",
        "   diagonal_sum = confusion_matrix.trace()\n",
        "   sum_of_all_elements = confusion_matrix.sum()\n",
        "   return diagonal_sum / sum_of_all_elements"
      ],
      "execution_count": 0,
      "outputs": []
    },
    {
      "cell_type": "markdown",
      "metadata": {
        "id": "oa5S3IERnFyZ",
        "colab_type": "text"
      },
      "source": [
        "### 1.Support Vector Machine (SVM)"
      ]
    },
    {
      "cell_type": "markdown",
      "metadata": {
        "id": "ROgo6JkphW0K",
        "colab_type": "text"
      },
      "source": [
        "Link for documentation:\n",
        "https://scikit-learn.org/stable/modules/svm.html"
      ]
    },
    {
      "cell_type": "code",
      "metadata": {
        "id": "2vKSKRDSnT3X",
        "colab_type": "code",
        "colab": {}
      },
      "source": [
        "from sklearn.svm import LinearSVC"
      ],
      "execution_count": 0,
      "outputs": []
    },
    {
      "cell_type": "code",
      "metadata": {
        "id": "2HQBe2aVnTeq",
        "colab_type": "code",
        "colab": {}
      },
      "source": [
        "# creating function to do some tests with svm model and print average score\n",
        "\n",
        "def svm_test(X_train, y_train, cv = 10):\n",
        "  np.random.seed(0)\n",
        "  svc = LinearSVC()\n",
        "  # cv_scores = cross_val_score(svc, X_train, y_train, scoring = 'roc_auc', cv = cv, n_jobs = -1)\n",
        "  cv_scores = cross_val_score(svc, X_train, y_train, scoring = 'accuracy', cv = cv, n_jobs = -1)\n",
        "  print('Average of ', cv, 'tests: ', cv_scores.mean())\n",
        "  return cv_scores.mean()"
      ],
      "execution_count": 0,
      "outputs": []
    },
    {
      "cell_type": "code",
      "metadata": {
        "id": "974CKXK3oBL2",
        "colab_type": "code",
        "outputId": "27cc35aa-62f3-483b-c6b0-7c59adcf96f8",
        "colab": {
          "base_uri": "https://localhost:8080/",
          "height": 34
        }
      },
      "source": [
        "# calling svm_test and storing cv_scores.mean() on res variable\n",
        "res = svm_test(X_train, y_train)"
      ],
      "execution_count": 0,
      "outputs": [
        {
          "output_type": "stream",
          "text": [
            "Average of  10 tests:  0.5684822845055526\n"
          ],
          "name": "stdout"
        }
      ]
    },
    {
      "cell_type": "code",
      "metadata": {
        "id": "iu2pKMWWqgD9",
        "colab_type": "code",
        "colab": {}
      },
      "source": [
        "# updating results\n",
        "# if you run this cell more than once, you should change the name (string) below\n",
        "# so we won't have duplicated models on the plot (Comparing Models section)\n",
        "all_models = np.append(all_models, \"SVM\")\n",
        "all_scores = np.append(all_scores, res)"
      ],
      "execution_count": 0,
      "outputs": []
    },
    {
      "cell_type": "code",
      "metadata": {
        "id": "Wq5Azcxkt16o",
        "colab_type": "code",
        "outputId": "a6dad504-e25f-4278-8d6e-f7b5e6dad6e0",
        "colab": {
          "base_uri": "https://localhost:8080/",
          "height": 34
        }
      },
      "source": [
        "all_models"
      ],
      "execution_count": 0,
      "outputs": [
        {
          "output_type": "execute_result",
          "data": {
            "text/plain": [
              "array(['SVM'], dtype='<U32')"
            ]
          },
          "metadata": {
            "tags": []
          },
          "execution_count": 261
        }
      ]
    },
    {
      "cell_type": "markdown",
      "metadata": {
        "id": "bobIgmMBo_Ur",
        "colab_type": "text"
      },
      "source": [
        "### 2.Extra Trees Classifier"
      ]
    },
    {
      "cell_type": "markdown",
      "metadata": {
        "id": "vWYKUmKdhqQP",
        "colab_type": "text"
      },
      "source": [
        "Link for documentation: https://scikit-learn.org/stable/modules/generated/sklearn.ensemble.ExtraTreesClassifier.html"
      ]
    },
    {
      "cell_type": "code",
      "metadata": {
        "id": "QQK9514Tp6LK",
        "colab_type": "code",
        "colab": {}
      },
      "source": [
        "from sklearn.ensemble import ExtraTreesClassifier"
      ],
      "execution_count": 0,
      "outputs": []
    },
    {
      "cell_type": "code",
      "metadata": {
        "id": "kfhtT25dpMmW",
        "colab_type": "code",
        "colab": {}
      },
      "source": [
        "def ext_test(X_train, y_train, n_estimators = 100, cv = 10):\n",
        "  np.random.seed(0)\n",
        "  ext = ExtraTreesClassifier(n_estimators = n_estimators, criterion = 'entropy', random_state = 0, n_jobs = -1)\n",
        "  cv_scores = cross_val_score(ext, X_train, y_train, scoring = 'accuracy', cv = cv, n_jobs = -1)\n",
        "  # cv_scores = cross_val_score(ext, X_train, y_train, scoring = 'roc_auc', cv = cv, n_jobs = -1)\n",
        "  print('Average of ', cv, 'tests: ', cv_scores.mean())\n",
        "  return cv_scores.mean()"
      ],
      "execution_count": 0,
      "outputs": []
    },
    {
      "cell_type": "code",
      "metadata": {
        "colab_type": "code",
        "outputId": "7db78328-ecfd-4f43-f417-ad7bf7335bf6",
        "id": "gYxGepriusE2",
        "colab": {
          "base_uri": "https://localhost:8080/",
          "height": 34
        }
      },
      "source": [
        "# calling etc_test and storing cv_scores.mean() on res variable\n",
        "res = ext_test(X_train, y_train)"
      ],
      "execution_count": 0,
      "outputs": [
        {
          "output_type": "stream",
          "text": [
            "Average of  10 tests:  0.7296404019037546\n"
          ],
          "name": "stdout"
        }
      ]
    },
    {
      "cell_type": "code",
      "metadata": {
        "colab_type": "code",
        "id": "pjaPjjcrusFJ",
        "colab": {}
      },
      "source": [
        "# updating results\n",
        "# if you run this cell more than once, you should change the name (string) below\n",
        "# so we won't have duplicated models on the plot (Comparing Models section)\n",
        "all_models = np.append(all_models, \"ETC\")\n",
        "all_scores = np.append(all_scores, res)"
      ],
      "execution_count": 0,
      "outputs": []
    },
    {
      "cell_type": "markdown",
      "metadata": {
        "id": "0w7ErnJqqLPf",
        "colab_type": "text"
      },
      "source": [
        "### 3.Random Forest Classifier"
      ]
    },
    {
      "cell_type": "markdown",
      "metadata": {
        "id": "if7jn5fnh5JP",
        "colab_type": "text"
      },
      "source": [
        "Link for documentation: https://scikit-learn.org/stable/modules/generated/sklearn.ensemble.RandomForestClassifier.html"
      ]
    },
    {
      "cell_type": "code",
      "metadata": {
        "id": "nBJh6eXXqPTV",
        "colab_type": "code",
        "colab": {}
      },
      "source": [
        "from sklearn.ensemble import RandomForestClassifier"
      ],
      "execution_count": 0,
      "outputs": []
    },
    {
      "cell_type": "code",
      "metadata": {
        "id": "4LiZuA8MqW2t",
        "colab_type": "code",
        "colab": {}
      },
      "source": [
        "# defining random forest function to call the classifier\n",
        "\n",
        "def rfc_test(X_train, y_train, n_estimators = 100, cv = 10):\n",
        "  np.random.seed(0)\n",
        "  rfc = RandomForestClassifier(n_estimators = n_estimators, random_state = 0, n_jobs = -1)\n",
        "  # cv_scores = cross_val_score(rfc, X_train, y_train, scoring = 'roc_auc', cv = cv, n_jobs = -1)\n",
        "  cv_scores = cross_val_score(rfc, X_train, y_train, scoring = 'accuracy', cv = cv, n_jobs = -1)\n",
        "  print('Average of ', cv, 'tests: ', cv_scores.mean())\n",
        "  return cv_scores.mean()"
      ],
      "execution_count": 0,
      "outputs": []
    },
    {
      "cell_type": "code",
      "metadata": {
        "colab_type": "code",
        "outputId": "3763f2c3-f7eb-4fe5-8be8-49f87949ffcb",
        "id": "SPxtzL2k1N5m",
        "colab": {
          "base_uri": "https://localhost:8080/",
          "height": 34
        }
      },
      "source": [
        "# calling rfc_test and storing cv_scores.mean() on res variable\n",
        "res = rfc_test(X_train, y_train)"
      ],
      "execution_count": 0,
      "outputs": [
        {
          "output_type": "stream",
          "text": [
            "Average of  10 tests:  0.7460074034902169\n"
          ],
          "name": "stdout"
        }
      ]
    },
    {
      "cell_type": "code",
      "metadata": {
        "colab_type": "code",
        "id": "XLN6oJFj1N6E",
        "colab": {}
      },
      "source": [
        "# updating results\n",
        "# if you run this cell more than once, you should change the name (string) below\n",
        "# so we won't have duplicated models on the plot (Comparing Models section)\n",
        "all_models = np.append(all_models, \"RFC\")\n",
        "all_scores = np.append(all_scores, res)"
      ],
      "execution_count": 0,
      "outputs": []
    },
    {
      "cell_type": "markdown",
      "metadata": {
        "id": "RzmwHYcekEL_",
        "colab_type": "text"
      },
      "source": [
        "### 4.XGBClassifier"
      ]
    },
    {
      "cell_type": "markdown",
      "metadata": {
        "id": "8K4uWk2Lkjzu",
        "colab_type": "text"
      },
      "source": [
        "Link for documentation: https://xgboost.readthedocs.io/en/latest/python/python_api.html#module-xgboost.sklearn"
      ]
    },
    {
      "cell_type": "code",
      "metadata": {
        "id": "JtTvCvm1koHb",
        "colab_type": "code",
        "colab": {}
      },
      "source": [
        "from xgboost import XGBClassifier"
      ],
      "execution_count": 0,
      "outputs": []
    },
    {
      "cell_type": "code",
      "metadata": {
        "id": "unURiIgIkxhd",
        "colab_type": "code",
        "colab": {}
      },
      "source": [
        "def xgbc_test(X_train, y_train, n_estimators = 100, cv = 10):\n",
        "  np.random.seed(0)\n",
        "  xgb = XGBClassifier()\n",
        "  # cv_scores = cross_val_score(rfc, X_train, y_train, scoring = 'roc_auc', cv = cv, n_jobs = -1)\n",
        "  cv_scores = cross_val_score(xgb, X_train, y_train, scoring = 'accuracy', cv = cv, n_jobs = -1)\n",
        "  print('Average of ', cv, 'tests: ', cv_scores.mean())\n",
        "  return cv_scores.mean()"
      ],
      "execution_count": 0,
      "outputs": []
    },
    {
      "cell_type": "code",
      "metadata": {
        "colab_type": "code",
        "outputId": "d87ac0c2-5150-473e-d880-177d0bc73b7d",
        "id": "QQVetCGs1cxJ",
        "colab": {
          "base_uri": "https://localhost:8080/",
          "height": 34
        }
      },
      "source": [
        "# calling xgbc_test and storing cv_scores.mean() on res variable\n",
        "res = xgbc_test(X_train, y_train)"
      ],
      "execution_count": 0,
      "outputs": [
        {
          "output_type": "stream",
          "text": [
            "Average of  10 tests:  0.7492596509783183\n"
          ],
          "name": "stdout"
        }
      ]
    },
    {
      "cell_type": "code",
      "metadata": {
        "colab_type": "code",
        "id": "36kMULEH1cxa",
        "colab": {}
      },
      "source": [
        "# updating results\n",
        "# if you run this cell more than once, you should change the name (string) below\n",
        "# so we won't have duplicated models on the plot (Comparing Models section)\n",
        "all_models = np.append(all_models, \"XGB\")\n",
        "all_scores = np.append(all_scores, res)"
      ],
      "execution_count": 0,
      "outputs": []
    },
    {
      "cell_type": "markdown",
      "metadata": {
        "id": "7is9OVoAumg2",
        "colab_type": "text"
      },
      "source": [
        "### 5.Multi-Layer Percetron (MLP)"
      ]
    },
    {
      "cell_type": "markdown",
      "metadata": {
        "id": "tMOjctVoh9-i",
        "colab_type": "text"
      },
      "source": [
        "Link for documentation: https://scikit-learn.org/stable/modules/neural_networks_supervised.html"
      ]
    },
    {
      "cell_type": "code",
      "metadata": {
        "id": "AN9FsyB_q_Kh",
        "colab_type": "code",
        "colab": {}
      },
      "source": [
        "from sklearn.neural_network import MLPClassifier\n",
        "from sklearn.preprocessing import StandardScaler\n",
        "from sklearn.pipeline import Pipeline"
      ],
      "execution_count": 0,
      "outputs": []
    },
    {
      "cell_type": "code",
      "metadata": {
        "id": "IPVGKAPVrDVV",
        "colab_type": "code",
        "colab": {}
      },
      "source": [
        "def mlp_test(X_train, y_train, cv = 10):\n",
        "  np.random.seed(0)\n",
        "\n",
        "  mlp = MLPClassifier()\n",
        "  scaler = StandardScaler()\n",
        "\n",
        "  pipe = Pipeline([('scaler', scaler), ('mlp', mlp)])\n",
        "\n",
        "  # cv_scores = cross_val_score(pipe, X_train, y_train, scoring = 'roc_auc', cv = cv, n_jobs = -1)\n",
        "  cv_scores = cross_val_score(pipe, X_train, y_train, scoring = 'accuracy', cv = cv, n_jobs = -1)\n",
        "  print('Average of ', cv,  'tests: ', cv_scores.mean())\n",
        "  return cv_scores.mean()"
      ],
      "execution_count": 0,
      "outputs": []
    },
    {
      "cell_type": "code",
      "metadata": {
        "colab_type": "code",
        "outputId": "7be3545a-ecf3-41d9-fea7-4a4cc0982b8c",
        "id": "OXxF_wBU1zxp",
        "colab": {
          "base_uri": "https://localhost:8080/",
          "height": 34
        }
      },
      "source": [
        "# calling mlp_test and storing cv_scores.mean() on res variable\n",
        "res = mlp_test(X_train, y_train)"
      ],
      "execution_count": 0,
      "outputs": [
        {
          "output_type": "stream",
          "text": [
            "Average of  10 tests:  0.750846113167636\n"
          ],
          "name": "stdout"
        }
      ]
    },
    {
      "cell_type": "code",
      "metadata": {
        "colab_type": "code",
        "id": "aMBqZpQR1zyC",
        "colab": {}
      },
      "source": [
        "# updating results\n",
        "# if you run this cell more than once, you should change the name (string) below\n",
        "# so we won't have duplicated models on the plot (Comparing Models section)\n",
        "all_models = np.append(all_models, \"MLP\")\n",
        "all_scores = np.append(all_scores, res)"
      ],
      "execution_count": 0,
      "outputs": []
    },
    {
      "cell_type": "markdown",
      "metadata": {
        "id": "mZDBC32VilkB",
        "colab_type": "text"
      },
      "source": [
        "### 6.Keras Sequential Model"
      ]
    },
    {
      "cell_type": "markdown",
      "metadata": {
        "id": "aY-eJIcaiNRl",
        "colab_type": "text"
      },
      "source": [
        "Link for documentation: https://keras.io/guides/sequential_model/"
      ]
    },
    {
      "cell_type": "code",
      "metadata": {
        "id": "Df25c3IvnZm_",
        "colab_type": "code",
        "colab": {}
      },
      "source": [
        "import tensorflow as tf\n",
        "from keras.models import Sequential\n",
        "from keras.layers import Dense"
      ],
      "execution_count": 0,
      "outputs": []
    },
    {
      "cell_type": "code",
      "metadata": {
        "id": "Wn1iY3MKlUlK",
        "colab_type": "code",
        "colab": {}
      },
      "source": [
        "# define the keras model\n",
        "model = Sequential()\n",
        "# 8 input features (input_dim)\n",
        "model.add(Dense(12, input_dim=8, activation='relu'))\n",
        "model.add(Dense(6, activation='relu'))\n",
        "# last layer must be activated with sigmoid or softmax since we want results in (0, 1) range (probabilities)\n",
        "model.add(Dense(1, activation='sigmoid'))\n",
        "\n",
        "# compile the keras model, choose metrics\n",
        "model.compile(loss='binary_crossentropy', optimizer='adam', metrics=['accuracy'])\n",
        "# model.compile(loss='binary_crossentropy', optimizer='sgd', metrics=[tf.keras.metrics.AUC()])\n"
      ],
      "execution_count": 0,
      "outputs": []
    },
    {
      "cell_type": "code",
      "metadata": {
        "id": "paS38ixtkugO",
        "colab_type": "code",
        "outputId": "d4e2f083-c9d5-4726-e9ce-d72bb051294f",
        "colab": {
          "base_uri": "https://localhost:8080/",
          "height": 34
        }
      },
      "source": [
        "# fit the keras model on the dataset\n",
        "model.fit(X_train, y_train, epochs=100, verbose = 0)"
      ],
      "execution_count": 0,
      "outputs": [
        {
          "output_type": "execute_result",
          "data": {
            "text/plain": [
              "<keras.callbacks.callbacks.History at 0x7ff501b08390>"
            ]
          },
          "metadata": {
            "tags": []
          },
          "execution_count": 277
        }
      ]
    },
    {
      "cell_type": "code",
      "metadata": {
        "id": "IPb-_sMfnY0_",
        "colab_type": "code",
        "outputId": "3c692b41-b9bf-483c-f99e-184146c89ec0",
        "colab": {
          "base_uri": "https://localhost:8080/",
          "height": 34
        }
      },
      "source": [
        "# evaluate model\n",
        "test_loss, res = model.evaluate(X_test, y_test)"
      ],
      "execution_count": 0,
      "outputs": [
        {
          "output_type": "stream",
          "text": [
            "154/154 [==============================] - 0s 149us/step\n"
          ],
          "name": "stdout"
        }
      ]
    },
    {
      "cell_type": "code",
      "metadata": {
        "id": "Lkyg2IYkokpz",
        "colab_type": "code",
        "outputId": "729c8591-6f56-4c98-f845-df3317c9e5c7",
        "colab": {
          "base_uri": "https://localhost:8080/",
          "height": 34
        }
      },
      "source": [
        "res"
      ],
      "execution_count": 0,
      "outputs": [
        {
          "output_type": "execute_result",
          "data": {
            "text/plain": [
              "0.6753246784210205"
            ]
          },
          "metadata": {
            "tags": []
          },
          "execution_count": 279
        }
      ]
    },
    {
      "cell_type": "code",
      "metadata": {
        "colab_type": "code",
        "id": "vBD1x3282o2i",
        "colab": {}
      },
      "source": [
        "# updating results\n",
        "# if you run this cell more than once, you should change the name (string) below\n",
        "# so we won't have duplicated models on the plot (Comparing Models section)\n",
        "all_models = np.append(all_models, \"Keras\")\n",
        "all_scores = np.append(all_scores, res)"
      ],
      "execution_count": 0,
      "outputs": []
    },
    {
      "cell_type": "code",
      "metadata": {
        "id": "HN3Gc8llJXTu",
        "colab_type": "code",
        "outputId": "4fd3f46f-f8c1-432c-bb24-c122f37a5295",
        "colab": {
          "base_uri": "https://localhost:8080/",
          "height": 34
        }
      },
      "source": [
        "test_loss"
      ],
      "execution_count": 0,
      "outputs": [
        {
          "output_type": "execute_result",
          "data": {
            "text/plain": [
              "0.6214500572774317"
            ]
          },
          "metadata": {
            "tags": []
          },
          "execution_count": 281
        }
      ]
    },
    {
      "cell_type": "code",
      "metadata": {
        "id": "UIXhTzhokubn",
        "colab_type": "code",
        "outputId": "b455c8ee-c57e-4ac8-aae3-f2f23faf5743",
        "colab": {
          "base_uri": "https://localhost:8080/",
          "height": 272
        }
      },
      "source": [
        "# predict classes with the model\n",
        "# class 0 : no diabetes \n",
        "# class 1 : diabetes predicted :(\n",
        "predict_class = model.predict_classes(X_test)\n",
        "predict_class[0:15]"
      ],
      "execution_count": 0,
      "outputs": [
        {
          "output_type": "execute_result",
          "data": {
            "text/plain": [
              "array([[0],\n",
              "       [0],\n",
              "       [0],\n",
              "       [0],\n",
              "       [0],\n",
              "       [0],\n",
              "       [0],\n",
              "       [0],\n",
              "       [0],\n",
              "       [0],\n",
              "       [0],\n",
              "       [0],\n",
              "       [0],\n",
              "       [0],\n",
              "       [1]], dtype=int32)"
            ]
          },
          "metadata": {
            "tags": []
          },
          "execution_count": 282
        }
      ]
    },
    {
      "cell_type": "code",
      "metadata": {
        "id": "k8PBWdyIwX_-",
        "colab_type": "code",
        "outputId": "5cfddb63-d299-41a7-995c-4a8d7ffadc4e",
        "colab": {
          "base_uri": "https://localhost:8080/",
          "height": 102
        }
      },
      "source": [
        "# predict probabilities on test data\n",
        "y_pred = model.predict(X_test)\n",
        "y_pred[0:5]"
      ],
      "execution_count": 0,
      "outputs": [
        {
          "output_type": "execute_result",
          "data": {
            "text/plain": [
              "array([[0.11955559],\n",
              "       [0.12144232],\n",
              "       [0.04039523],\n",
              "       [0.16181973],\n",
              "       [0.4358194 ]], dtype=float32)"
            ]
          },
          "metadata": {
            "tags": []
          },
          "execution_count": 283
        }
      ]
    },
    {
      "cell_type": "code",
      "metadata": {
        "id": "IjKf5vpGxTI0",
        "colab_type": "code",
        "outputId": "da9e27a6-9009-4b57-ca7e-8dba713343a6",
        "colab": {
          "base_uri": "https://localhost:8080/",
          "height": 357
        }
      },
      "source": [
        "# we will need this to calculate confusion matrix\n",
        "rounded = [round(x[0]) for x in y_pred]\n",
        "rounded[0:20]"
      ],
      "execution_count": 0,
      "outputs": [
        {
          "output_type": "execute_result",
          "data": {
            "text/plain": [
              "[0.0,\n",
              " 0.0,\n",
              " 0.0,\n",
              " 0.0,\n",
              " 0.0,\n",
              " 0.0,\n",
              " 0.0,\n",
              " 0.0,\n",
              " 0.0,\n",
              " 0.0,\n",
              " 0.0,\n",
              " 0.0,\n",
              " 0.0,\n",
              " 0.0,\n",
              " 1.0,\n",
              " 0.0,\n",
              " 0.0,\n",
              " 0.0,\n",
              " 0.0,\n",
              " 1.0]"
            ]
          },
          "metadata": {
            "tags": []
          },
          "execution_count": 285
        }
      ]
    },
    {
      "cell_type": "code",
      "metadata": {
        "id": "Hme6c6zokuUr",
        "colab_type": "code",
        "outputId": "7adcb88f-6410-4ba3-a310-6934fe00b25e",
        "colab": {
          "base_uri": "https://localhost:8080/",
          "height": 357
        }
      },
      "source": [
        "# summarize the first n cases\n",
        "n = 5\n",
        "for i in range(n):\n",
        "\tprint('%s => \\n %d (expected %d)\\n\\n' % (X_test.iloc[i, ].tolist(), rounded[i], y_test.iloc[i]))"
      ],
      "execution_count": 0,
      "outputs": [
        {
          "output_type": "stream",
          "text": [
            "[2.0, 56.0, 56.0, 28.0, 45.0, 24.2, 0.332, 22.0] => \n",
            " 0 (expected 0)\n",
            "\n",
            "\n",
            "[1.0, 92.0, 62.0, 25.0, 41.0, 19.5, 0.48200000000000004, 25.0] => \n",
            " 0 (expected 0)\n",
            "\n",
            "\n",
            "[1.0, 100.0, 74.0, 12.0, 46.0, 19.5, 0.149, 28.0] => \n",
            " 0 (expected 0)\n",
            "\n",
            "\n",
            "[7.0, 97.0, 76.0, 32.0, 91.0, 40.9, 0.871, 32.0] => \n",
            " 0 (expected 1)\n",
            "\n",
            "\n",
            "[6.0, 151.0, 62.0, 31.0, 120.0, 35.5, 0.6920000000000001, 28.0] => \n",
            " 0 (expected 0)\n",
            "\n",
            "\n"
          ],
          "name": "stdout"
        }
      ]
    },
    {
      "cell_type": "code",
      "metadata": {
        "id": "1qEOPGBK3Qdt",
        "colab_type": "code",
        "colab": {}
      },
      "source": [
        "# input to confusion_matrix must be an array of int (rounded)\n",
        "\n",
        "# obviously, we can only call confusion_matrix once we already called the fit method on the model\n",
        "matrix = confusion_matrix(y_test, rounded)"
      ],
      "execution_count": 0,
      "outputs": []
    },
    {
      "cell_type": "code",
      "metadata": {
        "id": "_eeEPVu3ELMq",
        "colab_type": "code",
        "outputId": "89a21614-e568-4688-f92d-d9e66d4f9f3b",
        "colab": {
          "base_uri": "https://localhost:8080/",
          "height": 51
        }
      },
      "source": [
        "matrix"
      ],
      "execution_count": 0,
      "outputs": [
        {
          "output_type": "execute_result",
          "data": {
            "text/plain": [
              "array([[87, 13],\n",
              "       [37, 17]])"
            ]
          },
          "metadata": {
            "tags": []
          },
          "execution_count": 288
        }
      ]
    },
    {
      "cell_type": "code",
      "metadata": {
        "id": "4VjRp_wNDje4",
        "colab_type": "code",
        "outputId": "d0863ded-412d-4d86-ca71-177dffdb3b83",
        "colab": {
          "base_uri": "https://localhost:8080/",
          "height": 34
        }
      },
      "source": [
        "# printing the accuracy using function defined in 'Evaluation functions' section\n",
        "print(\"Accuracy of Keras Sequential model : ''\", acc_cm(matrix))"
      ],
      "execution_count": 0,
      "outputs": [
        {
          "output_type": "stream",
          "text": [
            "Accuracy of Keras Sequential model : '' 0.6753246753246753\n"
          ],
          "name": "stdout"
        }
      ]
    },
    {
      "cell_type": "markdown",
      "metadata": {
        "id": "Ebkjn-S830g3",
        "colab_type": "text"
      },
      "source": [
        "### Comparing Models"
      ]
    },
    {
      "cell_type": "code",
      "metadata": {
        "id": "aU2cjQwP377u",
        "colab_type": "code",
        "outputId": "98457fec-16c3-4623-c49e-65f46dbca428",
        "colab": {
          "base_uri": "https://localhost:8080/",
          "height": 34
        }
      },
      "source": [
        "# check models array\n",
        "all_models"
      ],
      "execution_count": 0,
      "outputs": [
        {
          "output_type": "execute_result",
          "data": {
            "text/plain": [
              "array(['SVM', 'ETC', 'RFC', 'XGB', 'MLP', 'Keras'], dtype='<U32')"
            ]
          },
          "metadata": {
            "tags": []
          },
          "execution_count": 290
        }
      ]
    },
    {
      "cell_type": "code",
      "metadata": {
        "id": "-8nyK7iZ3-sC",
        "colab_type": "code",
        "outputId": "6ab60b71-f284-4b47-eab8-65dde16d67c2",
        "colab": {
          "base_uri": "https://localhost:8080/",
          "height": 51
        }
      },
      "source": [
        "# check scores array\n",
        "all_scores"
      ],
      "execution_count": 0,
      "outputs": [
        {
          "output_type": "execute_result",
          "data": {
            "text/plain": [
              "array([0.56848228, 0.7296404 , 0.7460074 , 0.74925965, 0.75084611,\n",
              "       0.67532468])"
            ]
          },
          "metadata": {
            "tags": []
          },
          "execution_count": 291
        }
      ]
    },
    {
      "cell_type": "code",
      "metadata": {
        "id": "QbuJrgjWvQbd",
        "colab_type": "code",
        "outputId": "71d9bd2c-7be5-4646-f444-09d55d0b1267",
        "colab": {
          "base_uri": "https://localhost:8080/",
          "height": 265
        }
      },
      "source": [
        "# plot model results\n",
        "\n",
        "fig, ax = plt.subplots()\n",
        "ax.barh(all_models, all_scores)\n",
        "plt.xlim(0, 1)\n",
        "for index, value in enumerate(all_scores):\n",
        "    plt.text(value, index, str(round(value, 4)), fontsize = 12)"
      ],
      "execution_count": 0,
      "outputs": [
        {
          "output_type": "display_data",
          "data": {
            "image/png": "[encoded data removed]",
            "text/plain": [
              "<Figure size 432x288 with 1 Axes>"
            ]
          },
          "metadata": {
            "tags": [],
            "needs_background": "light"
          }
        }
      ]
    },
    {
      "cell_type": "code",
      "metadata": {
        "id": "0Ilme44l4jkP",
        "colab_type": "code",
        "colab": {}
      },
      "source": [
        "best_model = all_models[all_scores.argmax()]"
      ],
      "execution_count": 0,
      "outputs": []
    },
    {
      "cell_type": "code",
      "metadata": {
        "id": "OKaAEbzc8hg7",
        "colab_type": "code",
        "outputId": "beb9755f-9b80-42f4-c530-7d1ad2299268",
        "colab": {
          "base_uri": "https://localhost:8080/",
          "height": 34
        }
      },
      "source": [
        "# this is just a string, it doesn't contain the model parameters\n",
        "best_model"
      ],
      "execution_count": 0,
      "outputs": [
        {
          "output_type": "execute_result",
          "data": {
            "text/plain": [
              "'MLP'"
            ]
          },
          "metadata": {
            "tags": []
          },
          "execution_count": 294
        }
      ]
    },
    {
      "cell_type": "markdown",
      "metadata": {
        "id": "Bqdqq0jq82Je",
        "colab_type": "text"
      },
      "source": [
        "### Training best model"
      ]
    },
    {
      "cell_type": "code",
      "metadata": {
        "id": "wDbVpgfe89Ry",
        "colab_type": "code",
        "colab": {}
      },
      "source": [
        "# Defining model\n",
        "mlp = MLPClassifier()\n",
        "\n",
        "# using a scaler, since it is a neural network\n",
        "scaler = StandardScaler()\n",
        "\n",
        "# creating the pipeline with scaler and then MLP\n",
        "pipe = Pipeline([('scaler', scaler), ('mlp', mlp)])"
      ],
      "execution_count": 0,
      "outputs": []
    },
    {
      "cell_type": "code",
      "metadata": {
        "id": "wyxkr8Kh-Q9g",
        "colab_type": "code",
        "colab": {}
      },
      "source": [
        "# fit/train the algorithm on the train data\n",
        "pipe.fit(X_train, y_train)"
      ],
      "execution_count": 0,
      "outputs": []
    },
    {
      "cell_type": "code",
      "metadata": {
        "id": "5E1vZTO_-QyF",
        "colab_type": "code",
        "outputId": "adec72df-840d-4625-f01c-02fce1c0fe98",
        "colab": {
          "base_uri": "https://localhost:8080/",
          "height": 136
        }
      },
      "source": [
        "# predict classes with the model\n",
        "# class 0 : no diabetes \n",
        "# class 1 : diabetes predicted :(\n",
        "y_pred = pipe.predict(X_test)\n",
        "y_pred"
      ],
      "execution_count": 0,
      "outputs": [
        {
          "output_type": "execute_result",
          "data": {
            "text/plain": [
              "array([0, 0, 0, 1, 1, 0, 1, 0, 0, 0, 0, 0, 0, 0, 1, 0, 0, 0, 0, 1, 0, 0,\n",
              "       0, 1, 0, 1, 1, 0, 0, 0, 0, 0, 1, 0, 1, 0, 1, 0, 0, 0, 0, 0, 1, 0,\n",
              "       1, 1, 0, 0, 1, 0, 0, 0, 0, 1, 0, 1, 0, 0, 0, 0, 0, 0, 1, 0, 0, 1,\n",
              "       0, 0, 0, 0, 0, 1, 0, 0, 0, 0, 0, 0, 0, 1, 0, 1, 1, 0, 1, 1, 0, 0,\n",
              "       1, 0, 0, 0, 0, 1, 1, 0, 1, 1, 0, 0, 1, 0, 0, 0, 0, 0, 0, 1, 0, 0,\n",
              "       0, 0, 0, 1, 0, 0, 0, 1, 0, 0, 1, 0, 1, 0, 1, 0, 0, 1, 0, 0, 0, 1,\n",
              "       0, 0, 1, 1, 1, 0, 1, 1, 0, 0, 1, 0, 0, 0, 0, 0, 1, 0, 0, 1, 0, 0])"
            ]
          },
          "metadata": {
            "tags": []
          },
          "execution_count": 322
        }
      ]
    },
    {
      "cell_type": "code",
      "metadata": {
        "id": "W5-G9Tx1-QdN",
        "colab_type": "code",
        "outputId": "2593a15a-d12f-4fbe-f27a-488f49671e4f",
        "colab": {
          "base_uri": "https://localhost:8080/",
          "height": 136
        }
      },
      "source": [
        "pipe.predict_proba(X_train)"
      ],
      "execution_count": 0,
      "outputs": [
        {
          "output_type": "execute_result",
          "data": {
            "text/plain": [
              "array([[0.0612002 , 0.9387998 ],\n",
              "       [0.96826612, 0.03173388],\n",
              "       [0.82531213, 0.17468787],\n",
              "       ...,\n",
              "       [0.98483684, 0.01516316],\n",
              "       [0.59535529, 0.40464471],\n",
              "       [0.46886409, 0.53113591]])"
            ]
          },
          "metadata": {
            "tags": []
          },
          "execution_count": 298
        }
      ]
    },
    {
      "cell_type": "code",
      "metadata": {
        "id": "o9KYLFne_a1S",
        "colab_type": "code",
        "outputId": "92d8f0a1-f863-44d1-a1b6-990765ec97dc",
        "colab": {
          "base_uri": "https://localhost:8080/",
          "height": 51
        }
      },
      "source": [
        "# now that we trained (fit) the model, we can calculate the confusion matrix\n",
        "cm = confusion_matrix(y_pred, y_test)\n",
        "cm"
      ],
      "execution_count": 0,
      "outputs": [
        {
          "output_type": "execute_result",
          "data": {
            "text/plain": [
              "array([[90, 17],\n",
              "       [10, 37]])"
            ]
          },
          "metadata": {
            "tags": []
          },
          "execution_count": 299
        }
      ]
    },
    {
      "cell_type": "code",
      "metadata": {
        "id": "9Lo74iBaCQ64",
        "colab_type": "code",
        "outputId": "22c96085-5977-474e-f7a3-67ca0e5ef8d8",
        "colab": {
          "base_uri": "https://localhost:8080/",
          "height": 34
        }
      },
      "source": [
        "res = pipe.score(X_test, y_test)\n",
        "res"
      ],
      "execution_count": 0,
      "outputs": [
        {
          "output_type": "execute_result",
          "data": {
            "text/plain": [
              "0.8246753246753247"
            ]
          },
          "metadata": {
            "tags": []
          },
          "execution_count": 325
        }
      ]
    },
    {
      "cell_type": "code",
      "metadata": {
        "id": "1QqeCTZkAUlY",
        "colab_type": "code",
        "outputId": "e00f6939-320c-4b7e-f079-8e4d40e0d19d",
        "colab": {
          "base_uri": "https://localhost:8080/",
          "height": 34
        }
      },
      "source": [
        "# printing the accuracy using function defined in 'Evaluation functions' section\n",
        "print(\"Accuracy of MLPClassifier : ''\", acc_cm(cm))"
      ],
      "execution_count": 0,
      "outputs": [
        {
          "output_type": "stream",
          "text": [
            "Accuracy of MLPClassifier : '' 0.8246753246753247\n"
          ],
          "name": "stdout"
        }
      ]
    },
    {
      "cell_type": "code",
      "metadata": {
        "id": "f4O5GQsgBz_2",
        "colab_type": "code",
        "colab": {}
      },
      "source": [
        "# updating results (appending trained model)\n",
        "# if you run this cell more than once, you should change the name (string) below\n",
        "# so we won't have duplicated models on the plot (Comparing Models section)\n",
        "all_models = np.append(all_models, \"MLP (trained)\")\n",
        "all_scores = np.append(all_scores, res)"
      ],
      "execution_count": 0,
      "outputs": []
    },
    {
      "cell_type": "code",
      "metadata": {
        "id": "QgmiLDjwDU8H",
        "colab_type": "code",
        "outputId": "fcfe9d54-88b0-4452-dab3-7899deea5511",
        "colab": {
          "base_uri": "https://localhost:8080/",
          "height": 51
        }
      },
      "source": [
        "all_models"
      ],
      "execution_count": 0,
      "outputs": [
        {
          "output_type": "execute_result",
          "data": {
            "text/plain": [
              "array(['SVM', 'ETC', 'RFC', 'XGB', 'MLP', 'Keras', 'MLP (trained)'],\n",
              "      dtype='<U32')"
            ]
          },
          "metadata": {
            "tags": []
          },
          "execution_count": 327
        }
      ]
    },
    {
      "cell_type": "code",
      "metadata": {
        "id": "RNiQXhiLDkrC",
        "colab_type": "code",
        "outputId": "850fcd69-ae41-4597-cede-2ec26f79f02b",
        "colab": {
          "base_uri": "https://localhost:8080/",
          "height": 51
        }
      },
      "source": [
        "all_scores"
      ],
      "execution_count": 0,
      "outputs": [
        {
          "output_type": "execute_result",
          "data": {
            "text/plain": [
              "array([0.56848228, 0.7296404 , 0.7460074 , 0.74925965, 0.75084611,\n",
              "       0.67532468, 0.82467532])"
            ]
          },
          "metadata": {
            "tags": []
          },
          "execution_count": 328
        }
      ]
    },
    {
      "cell_type": "code",
      "metadata": {
        "id": "v6aFdvBzDkT8",
        "colab_type": "code",
        "outputId": "d4e91dcc-edc2-430e-9cf5-824a3d585a81",
        "colab": {
          "base_uri": "https://localhost:8080/",
          "height": 281
        }
      },
      "source": [
        "# plot model results with trained model\n",
        "\n",
        "fig, ax = plt.subplots()\n",
        "ax.barh(all_models, all_scores)\n",
        "plt.xlim(0, 1)\n",
        "plt.title(\"Model vs Accuracy\")\n",
        "for index, value in enumerate(all_scores):\n",
        "    plt.text(value, index, str(round(value, 4)), fontsize = 12)"
      ],
      "execution_count": 330,
      "outputs": [
        {
          "output_type": "display_data",
          "data": {
            "image/png": "[encoded data removed]",
            "text/plain": [
              "<Figure size 432x288 with 1 Axes>"
            ]
          },
          "metadata": {
            "tags": [],
            "needs_background": "light"
          }
        }
      ]
    },
    {
      "cell_type": "markdown",
      "metadata": {
        "id": "8O1M-xW67980",
        "colab_type": "text"
      },
      "source": [
        "### Conclusions"
      ]
    },
    {
      "cell_type": "markdown",
      "metadata": {
        "id": "kXkKpi9A8B0K",
        "colab_type": "text"
      },
      "source": [
        "This notebook is intended to help with preliminar AI modeling and to make it easier to do some quick tests on a csv dataset, using some of the most popular machine learning and deep learning algorithms at the moment. It is preliminary analysis because it doesn't address hyperparameter optimization for the models yet.\n",
        "\n",
        "\n",
        "Hopefully this notebook will help people to predict variables on any tidy dataset. As mentioned, this is focused on the algorithms applications, and not on the data wrangling or feature selection, which are also very impactull on the model results."
      ]
    }
  ]
}