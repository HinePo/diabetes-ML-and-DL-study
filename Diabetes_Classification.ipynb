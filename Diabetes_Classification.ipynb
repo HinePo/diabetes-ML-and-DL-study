{
  "nbformat": 4,
  "nbformat_minor": 0,
  "metadata": {
    "colab": {
      "name": "Diabetes Classification.ipynb",
      "provenance": [],
      "collapsed_sections": [],
      "toc_visible": true,
      "mount_file_id": "1cX2VkqODbT8KUNNF0Ik3rRmzfqpopQd0",
      "authorship_tag": "ABX9TyMfynlDp5hhWnJFjRlR2VKN",
      "include_colab_link": true
    },
    "kernelspec": {
      "name": "python3",
      "display_name": "Python 3"
    }
  },
  "cells": [
    {
      "cell_type": "markdown",
      "metadata": {
        "id": "view-in-github",
        "colab_type": "text"
      },
      "source": [
        "<a href=\"https://colab.research.google.com/github/HinePo/diabetes-ML-and-DL-study/blob/master/Diabetes_Classification.ipynb\" target=\"_parent\"><img src=\"https://colab.research.google.com/assets/colab-badge.svg\" alt=\"Open In Colab\"/></a>"
      ]
    },
    {
      "cell_type": "markdown",
      "metadata": {
        "id": "0pRvmIj6rkMG",
        "colab_type": "text"
      },
      "source": [
        "#### Description"
      ]
    },
    {
      "cell_type": "markdown",
      "metadata": {
        "id": "3dJkSErxrppp",
        "colab_type": "text"
      },
      "source": [
        "In this kernel we will try to predict if a person has diabetes or not. We will do some preliminary modeling analysis and compare the results. It is contained: \n",
        "\n",
        "1. Applications for some models\n",
        "2. Plot accuracy from models\n",
        "3. Training the best model\n",
        "4. Predictions\n",
        "\n",
        "Best model: MLP Classifier (83.77 % validation accuracy).\n",
        "\n",
        "Dataset can be found in\n",
        "https://www.kaggle.com/uciml/pima-indians-diabetes-database"
      ]
    },
    {
      "cell_type": "markdown",
      "metadata": {
        "id": "U9J-6nSpi-gF",
        "colab_type": "text"
      },
      "source": [
        "#### Importing"
      ]
    },
    {
      "cell_type": "code",
      "metadata": {
        "id": "NwVlQUlchqGk",
        "colab_type": "code",
        "colab": {}
      },
      "source": [
        "import pandas as pd\n",
        "import numpy as np\n",
        "import matplotlib.pyplot as plt\n",
        "plt.style.use(\"seaborn-pastel\")\n",
        "\n",
        "from sklearn.model_selection import train_test_split, cross_val_score\n",
        "from sklearn.metrics import confusion_matrix"
      ],
      "execution_count": 1,
      "outputs": []
    },
    {
      "cell_type": "markdown",
      "metadata": {
        "id": "VS0NLRAfjGw7",
        "colab_type": "text"
      },
      "source": [
        "#### Loading dataset"
      ]
    },
    {
      "cell_type": "code",
      "metadata": {
        "id": "_q16EdcqklYT",
        "colab_type": "code",
        "colab": {}
      },
      "source": [
        "df = pd.read_csv('/content/diabetes.csv')"
      ],
      "execution_count": 2,
      "outputs": []
    },
    {
      "cell_type": "code",
      "metadata": {
        "id": "KckwcVSNsU-C",
        "colab_type": "code",
        "colab": {
          "base_uri": "https://localhost:8080/",
          "height": 204
        },
        "outputId": "50a5d761-bc07-48c7-c5b9-1c6e715a2033"
      },
      "source": [
        "df.head()"
      ],
      "execution_count": 3,
      "outputs": [
        {
          "output_type": "execute_result",
          "data": {
            "text/html": [
              "<div>\n",
              "<style scoped>\n",
              "    .dataframe tbody tr th:only-of-type {\n",
              "        vertical-align: middle;\n",
              "    }\n",
              "\n",
              "    .dataframe tbody tr th {\n",
              "        vertical-align: top;\n",
              "    }\n",
              "\n",
              "    .dataframe thead th {\n",
              "        text-align: right;\n",
              "    }\n",
              "</style>\n",
              "<table border=\"1\" class=\"dataframe\">\n",
              "  <thead>\n",
              "    <tr style=\"text-align: right;\">\n",
              "      <th></th>\n",
              "      <th>Pregnancies</th>\n",
              "      <th>Glucose</th>\n",
              "      <th>BloodPressure</th>\n",
              "      <th>SkinThickness</th>\n",
              "      <th>Insulin</th>\n",
              "      <th>BMI</th>\n",
              "      <th>DiabetesPedigreeFunction</th>\n",
              "      <th>Age</th>\n",
              "      <th>Outcome</th>\n",
              "    </tr>\n",
              "  </thead>\n",
              "  <tbody>\n",
              "    <tr>\n",
              "      <th>0</th>\n",
              "      <td>6</td>\n",
              "      <td>148</td>\n",
              "      <td>72</td>\n",
              "      <td>35</td>\n",
              "      <td>0</td>\n",
              "      <td>33.6</td>\n",
              "      <td>0.627</td>\n",
              "      <td>50</td>\n",
              "      <td>1</td>\n",
              "    </tr>\n",
              "    <tr>\n",
              "      <th>1</th>\n",
              "      <td>1</td>\n",
              "      <td>85</td>\n",
              "      <td>66</td>\n",
              "      <td>29</td>\n",
              "      <td>0</td>\n",
              "      <td>26.6</td>\n",
              "      <td>0.351</td>\n",
              "      <td>31</td>\n",
              "      <td>0</td>\n",
              "    </tr>\n",
              "    <tr>\n",
              "      <th>2</th>\n",
              "      <td>8</td>\n",
              "      <td>183</td>\n",
              "      <td>64</td>\n",
              "      <td>0</td>\n",
              "      <td>0</td>\n",
              "      <td>23.3</td>\n",
              "      <td>0.672</td>\n",
              "      <td>32</td>\n",
              "      <td>1</td>\n",
              "    </tr>\n",
              "    <tr>\n",
              "      <th>3</th>\n",
              "      <td>1</td>\n",
              "      <td>89</td>\n",
              "      <td>66</td>\n",
              "      <td>23</td>\n",
              "      <td>94</td>\n",
              "      <td>28.1</td>\n",
              "      <td>0.167</td>\n",
              "      <td>21</td>\n",
              "      <td>0</td>\n",
              "    </tr>\n",
              "    <tr>\n",
              "      <th>4</th>\n",
              "      <td>0</td>\n",
              "      <td>137</td>\n",
              "      <td>40</td>\n",
              "      <td>35</td>\n",
              "      <td>168</td>\n",
              "      <td>43.1</td>\n",
              "      <td>2.288</td>\n",
              "      <td>33</td>\n",
              "      <td>1</td>\n",
              "    </tr>\n",
              "  </tbody>\n",
              "</table>\n",
              "</div>"
            ],
            "text/plain": [
              "   Pregnancies  Glucose  BloodPressure  ...  DiabetesPedigreeFunction  Age  Outcome\n",
              "0            6      148             72  ...                     0.627   50        1\n",
              "1            1       85             66  ...                     0.351   31        0\n",
              "2            8      183             64  ...                     0.672   32        1\n",
              "3            1       89             66  ...                     0.167   21        0\n",
              "4            0      137             40  ...                     2.288   33        1\n",
              "\n",
              "[5 rows x 9 columns]"
            ]
          },
          "metadata": {
            "tags": []
          },
          "execution_count": 3
        }
      ]
    },
    {
      "cell_type": "code",
      "metadata": {
        "id": "dWUUxmYSMUIV",
        "colab_type": "code",
        "colab": {
          "base_uri": "https://localhost:8080/",
          "height": 34
        },
        "outputId": "940995af-d8ab-4bf8-e516-3a4310ad93e1"
      },
      "source": [
        "df.shape"
      ],
      "execution_count": 4,
      "outputs": [
        {
          "output_type": "execute_result",
          "data": {
            "text/plain": [
              "(768, 9)"
            ]
          },
          "metadata": {
            "tags": []
          },
          "execution_count": 4
        }
      ]
    },
    {
      "cell_type": "markdown",
      "metadata": {
        "id": "bJc2IpsKkHpH",
        "colab_type": "text"
      },
      "source": [
        "### Defining features and target"
      ]
    },
    {
      "cell_type": "code",
      "metadata": {
        "id": "yycLy05hsaXI",
        "colab_type": "code",
        "colab": {
          "base_uri": "https://localhost:8080/",
          "height": 68
        },
        "outputId": "9be82e4f-7cef-4e0a-b429-85458a480f61"
      },
      "source": [
        "all_vars = np.array(df.columns)\n",
        "all_vars"
      ],
      "execution_count": 5,
      "outputs": [
        {
          "output_type": "execute_result",
          "data": {
            "text/plain": [
              "array(['Pregnancies', 'Glucose', 'BloodPressure', 'SkinThickness',\n",
              "       'Insulin', 'BMI', 'DiabetesPedigreeFunction', 'Age', 'Outcome'],\n",
              "      dtype=object)"
            ]
          },
          "metadata": {
            "tags": []
          },
          "execution_count": 5
        }
      ]
    },
    {
      "cell_type": "markdown",
      "metadata": {
        "id": "SAa0dt9lnaIB",
        "colab_type": "text"
      },
      "source": [
        "We will use the following eight variables to predict diabetes:\n",
        "\n",
        "- Number of times pregnant\n",
        "- Glucose\n",
        "- Blood pressure\n",
        "- Skin thickness\n",
        "- Insulin\n",
        "- Body mass index\n",
        "- Diabetes pedigree function\n",
        "- Age"
      ]
    },
    {
      "cell_type": "code",
      "metadata": {
        "id": "0rgtOGN5tbgC",
        "colab_type": "code",
        "colab": {
          "base_uri": "https://localhost:8080/",
          "height": 51
        },
        "outputId": "f2e21505-cba8-4d95-8911-f3b97113bb4e"
      },
      "source": [
        "# features: columns the classifier will use to predict\n",
        "\n",
        "features = np.array(all_vars[0:8])\n",
        "features"
      ],
      "execution_count": 6,
      "outputs": [
        {
          "output_type": "execute_result",
          "data": {
            "text/plain": [
              "array(['Pregnancies', 'Glucose', 'BloodPressure', 'SkinThickness',\n",
              "       'Insulin', 'BMI', 'DiabetesPedigreeFunction', 'Age'], dtype=object)"
            ]
          },
          "metadata": {
            "tags": []
          },
          "execution_count": 6
        }
      ]
    },
    {
      "cell_type": "markdown",
      "metadata": {
        "id": "tNgDCa3coMhl",
        "colab_type": "text"
      },
      "source": [
        "Outcome column will be the target/predicted variable.\n",
        "\n",
        "Outcome = 0 : healthy\n",
        "\n",
        "Outcome = 1 : diabetes predicted"
      ]
    },
    {
      "cell_type": "code",
      "metadata": {
        "id": "v5N_5iGUtwh5",
        "colab_type": "code",
        "colab": {
          "base_uri": "https://localhost:8080/",
          "height": 34
        },
        "outputId": "f89eeb79-16c4-41d2-9ac6-2f436128a5b5"
      },
      "source": [
        "# target: column we want to predict\n",
        "\n",
        "target = np.array(all_vars[8])\n",
        "target"
      ],
      "execution_count": 7,
      "outputs": [
        {
          "output_type": "execute_result",
          "data": {
            "text/plain": [
              "array('Outcome', dtype='<U7')"
            ]
          },
          "metadata": {
            "tags": []
          },
          "execution_count": 7
        }
      ]
    },
    {
      "cell_type": "markdown",
      "metadata": {
        "id": "AbzT6YtfuKJG",
        "colab_type": "text"
      },
      "source": [
        "### Splitting the dataset"
      ]
    },
    {
      "cell_type": "code",
      "metadata": {
        "id": "AfN7vqulnpvj",
        "colab_type": "code",
        "colab": {}
      },
      "source": [
        "# split dataset using arrays as filters\n",
        "X_train, X_test, y_train, y_test = train_test_split(df[features], df[target], test_size = 0.2,\n",
        "                                                      stratify = df[target], random_state = 0)"
      ],
      "execution_count": 8,
      "outputs": []
    },
    {
      "cell_type": "code",
      "metadata": {
        "id": "Cj9Q1k7kp2qc",
        "colab_type": "code",
        "colab": {}
      },
      "source": [
        "# Creating variables to store the results\n",
        "all_models = np.array([])\n",
        "all_scores = np.array([])"
      ],
      "execution_count": 9,
      "outputs": []
    },
    {
      "cell_type": "code",
      "metadata": {
        "id": "XaUte6JNrl0N",
        "colab_type": "code",
        "colab": {
          "base_uri": "https://localhost:8080/",
          "height": 34
        },
        "outputId": "25c22280-5ff9-4cb2-8104-b08e77153417"
      },
      "source": [
        "all_models"
      ],
      "execution_count": 10,
      "outputs": [
        {
          "output_type": "execute_result",
          "data": {
            "text/plain": [
              "array([], dtype=float64)"
            ]
          },
          "metadata": {
            "tags": []
          },
          "execution_count": 10
        }
      ]
    },
    {
      "cell_type": "markdown",
      "metadata": {
        "id": "IqpxnJuYCxV9",
        "colab_type": "text"
      },
      "source": [
        "### Evaluation functions"
      ]
    },
    {
      "cell_type": "markdown",
      "metadata": {
        "id": "oa5S3IERnFyZ",
        "colab_type": "text"
      },
      "source": [
        "### 1.Support Vector Machine (SVM)"
      ]
    },
    {
      "cell_type": "markdown",
      "metadata": {
        "id": "ROgo6JkphW0K",
        "colab_type": "text"
      },
      "source": [
        "Link for documentation:\n",
        "https://scikit-learn.org/stable/modules/svm.html"
      ]
    },
    {
      "cell_type": "code",
      "metadata": {
        "id": "2vKSKRDSnT3X",
        "colab_type": "code",
        "colab": {}
      },
      "source": [
        "from sklearn.svm import LinearSVC"
      ],
      "execution_count": 11,
      "outputs": []
    },
    {
      "cell_type": "code",
      "metadata": {
        "id": "2HQBe2aVnTeq",
        "colab_type": "code",
        "colab": {}
      },
      "source": [
        "def svm_test(X_train, y_train, cv = 10):\n",
        "  np.random.seed(0)\n",
        "  svc = LinearSVC()\n",
        "  cv_scores = cross_val_score(svc, X_train, y_train, scoring = 'accuracy', cv = cv, n_jobs = -1)\n",
        "  print('Average of ', cv, 'tests: ', cv_scores.mean())\n",
        "  return cv_scores.mean()"
      ],
      "execution_count": 12,
      "outputs": []
    },
    {
      "cell_type": "code",
      "metadata": {
        "id": "974CKXK3oBL2",
        "colab_type": "code",
        "colab": {
          "base_uri": "https://localhost:8080/",
          "height": 34
        },
        "outputId": "367ed721-5d69-4af4-de77-21cb44c0c6de"
      },
      "source": [
        "res = svm_test(X_train, y_train)"
      ],
      "execution_count": 13,
      "outputs": [
        {
          "output_type": "stream",
          "text": [
            "Average of  10 tests:  0.5700158646218931\n"
          ],
          "name": "stdout"
        }
      ]
    },
    {
      "cell_type": "code",
      "metadata": {
        "id": "iu2pKMWWqgD9",
        "colab_type": "code",
        "colab": {}
      },
      "source": [
        "# updating results\n",
        "all_models = np.append(all_models, \"SVM\")\n",
        "all_scores = np.append(all_scores, res)"
      ],
      "execution_count": 14,
      "outputs": []
    },
    {
      "cell_type": "code",
      "metadata": {
        "id": "Wq5Azcxkt16o",
        "colab_type": "code",
        "colab": {
          "base_uri": "https://localhost:8080/",
          "height": 34
        },
        "outputId": "94d9cfed-2a64-468e-fc06-3690abbe01ee"
      },
      "source": [
        "all_models, all_scores"
      ],
      "execution_count": 15,
      "outputs": [
        {
          "output_type": "execute_result",
          "data": {
            "text/plain": [
              "(array(['SVM'], dtype='<U32'), array([0.57001586]))"
            ]
          },
          "metadata": {
            "tags": []
          },
          "execution_count": 15
        }
      ]
    },
    {
      "cell_type": "markdown",
      "metadata": {
        "id": "bobIgmMBo_Ur",
        "colab_type": "text"
      },
      "source": [
        "### 2.Extra Trees Classifier"
      ]
    },
    {
      "cell_type": "markdown",
      "metadata": {
        "id": "vWYKUmKdhqQP",
        "colab_type": "text"
      },
      "source": [
        "Link for documentation: https://scikit-learn.org/stable/modules/generated/sklearn.ensemble.ExtraTreesClassifier.html"
      ]
    },
    {
      "cell_type": "code",
      "metadata": {
        "id": "QQK9514Tp6LK",
        "colab_type": "code",
        "colab": {}
      },
      "source": [
        "from sklearn.ensemble import ExtraTreesClassifier"
      ],
      "execution_count": 16,
      "outputs": []
    },
    {
      "cell_type": "code",
      "metadata": {
        "id": "kfhtT25dpMmW",
        "colab_type": "code",
        "colab": {}
      },
      "source": [
        "def ext_test(X_train, y_train, n_estimators = 100, cv = 10):\n",
        "  np.random.seed(0)\n",
        "  ext = ExtraTreesClassifier(n_estimators = n_estimators, criterion = 'entropy', random_state = 0, n_jobs = -1)\n",
        "  cv_scores = cross_val_score(ext, X_train, y_train, scoring = 'accuracy', cv = cv, n_jobs = -1)\n",
        "  print('Average of ', cv, 'tests: ', cv_scores.mean())\n",
        "  return cv_scores.mean()"
      ],
      "execution_count": 17,
      "outputs": []
    },
    {
      "cell_type": "code",
      "metadata": {
        "colab_type": "code",
        "id": "gYxGepriusE2",
        "colab": {
          "base_uri": "https://localhost:8080/",
          "height": 34
        },
        "outputId": "c97e9632-5916-494a-d654-fda9f6e0224e"
      },
      "source": [
        "res = ext_test(X_train, y_train)"
      ],
      "execution_count": 18,
      "outputs": [
        {
          "output_type": "stream",
          "text": [
            "Average of  10 tests:  0.7296404019037546\n"
          ],
          "name": "stdout"
        }
      ]
    },
    {
      "cell_type": "code",
      "metadata": {
        "colab_type": "code",
        "id": "pjaPjjcrusFJ",
        "colab": {}
      },
      "source": [
        "# updating results\n",
        "all_models = np.append(all_models, \"ETC\")\n",
        "all_scores = np.append(all_scores, res)"
      ],
      "execution_count": 19,
      "outputs": []
    },
    {
      "cell_type": "markdown",
      "metadata": {
        "id": "0w7ErnJqqLPf",
        "colab_type": "text"
      },
      "source": [
        "### 3.Random Forest Classifier"
      ]
    },
    {
      "cell_type": "markdown",
      "metadata": {
        "id": "if7jn5fnh5JP",
        "colab_type": "text"
      },
      "source": [
        "Link for documentation: https://scikit-learn.org/stable/modules/generated/sklearn.ensemble.RandomForestClassifier.html"
      ]
    },
    {
      "cell_type": "code",
      "metadata": {
        "id": "nBJh6eXXqPTV",
        "colab_type": "code",
        "colab": {}
      },
      "source": [
        "from sklearn.ensemble import RandomForestClassifier"
      ],
      "execution_count": 20,
      "outputs": []
    },
    {
      "cell_type": "code",
      "metadata": {
        "id": "4LiZuA8MqW2t",
        "colab_type": "code",
        "colab": {}
      },
      "source": [
        "def rfc_test(X_train, y_train, n_estimators = 100, cv = 10):\n",
        "  np.random.seed(0)\n",
        "  rfc = RandomForestClassifier(n_estimators = n_estimators, random_state = 0, n_jobs = -1)\n",
        "  cv_scores = cross_val_score(rfc, X_train, y_train, scoring = 'accuracy', cv = cv, n_jobs = -1)\n",
        "  print('Average of ', cv, 'tests: ', cv_scores.mean())\n",
        "  return cv_scores.mean()"
      ],
      "execution_count": 21,
      "outputs": []
    },
    {
      "cell_type": "code",
      "metadata": {
        "colab_type": "code",
        "id": "SPxtzL2k1N5m",
        "colab": {
          "base_uri": "https://localhost:8080/",
          "height": 34
        },
        "outputId": "70d7c50b-196b-445a-e29a-37e4b8ad6b39"
      },
      "source": [
        "res = rfc_test(X_train, y_train)"
      ],
      "execution_count": 22,
      "outputs": [
        {
          "output_type": "stream",
          "text": [
            "Average of  10 tests:  0.7460074034902169\n"
          ],
          "name": "stdout"
        }
      ]
    },
    {
      "cell_type": "code",
      "metadata": {
        "colab_type": "code",
        "id": "XLN6oJFj1N6E",
        "colab": {}
      },
      "source": [
        "# updating results\n",
        "all_models = np.append(all_models, \"RFC\")\n",
        "all_scores = np.append(all_scores, res)"
      ],
      "execution_count": 23,
      "outputs": []
    },
    {
      "cell_type": "markdown",
      "metadata": {
        "id": "RzmwHYcekEL_",
        "colab_type": "text"
      },
      "source": [
        "### 4.XGBClassifier"
      ]
    },
    {
      "cell_type": "markdown",
      "metadata": {
        "id": "8K4uWk2Lkjzu",
        "colab_type": "text"
      },
      "source": [
        "Link for documentation: https://xgboost.readthedocs.io/en/latest/python/python_api.html#module-xgboost.sklearn"
      ]
    },
    {
      "cell_type": "code",
      "metadata": {
        "id": "JtTvCvm1koHb",
        "colab_type": "code",
        "colab": {}
      },
      "source": [
        "from xgboost import XGBClassifier"
      ],
      "execution_count": 24,
      "outputs": []
    },
    {
      "cell_type": "code",
      "metadata": {
        "id": "unURiIgIkxhd",
        "colab_type": "code",
        "colab": {}
      },
      "source": [
        "def xgbc_test(X_train, y_train, n_estimators = 100, cv = 10):\n",
        "  np.random.seed(0)\n",
        "  xgb = XGBClassifier()\n",
        "  cv_scores = cross_val_score(xgb, X_train, y_train, scoring = 'accuracy', cv = cv, n_jobs = -1)\n",
        "  print('Average of ', cv, 'tests: ', cv_scores.mean())\n",
        "  return cv_scores.mean()"
      ],
      "execution_count": 25,
      "outputs": []
    },
    {
      "cell_type": "code",
      "metadata": {
        "colab_type": "code",
        "id": "QQVetCGs1cxJ",
        "colab": {
          "base_uri": "https://localhost:8080/",
          "height": 34
        },
        "outputId": "058b4cf7-0922-4a24-9edf-7e71f51ab974"
      },
      "source": [
        "res = xgbc_test(X_train, y_train)"
      ],
      "execution_count": 26,
      "outputs": [
        {
          "output_type": "stream",
          "text": [
            "Average of  10 tests:  0.7492596509783183\n"
          ],
          "name": "stdout"
        }
      ]
    },
    {
      "cell_type": "code",
      "metadata": {
        "colab_type": "code",
        "id": "36kMULEH1cxa",
        "colab": {}
      },
      "source": [
        "# updating results\n",
        "all_models = np.append(all_models, \"XGB\")\n",
        "all_scores = np.append(all_scores, res)"
      ],
      "execution_count": 27,
      "outputs": []
    },
    {
      "cell_type": "markdown",
      "metadata": {
        "id": "7is9OVoAumg2",
        "colab_type": "text"
      },
      "source": [
        "### 5.Multi-Layer Perceptron (MLP)"
      ]
    },
    {
      "cell_type": "markdown",
      "metadata": {
        "id": "tMOjctVoh9-i",
        "colab_type": "text"
      },
      "source": [
        "Link for documentation: https://scikit-learn.org/stable/modules/neural_networks_supervised.html"
      ]
    },
    {
      "cell_type": "code",
      "metadata": {
        "id": "AN9FsyB_q_Kh",
        "colab_type": "code",
        "colab": {}
      },
      "source": [
        "from sklearn.neural_network import MLPClassifier\n",
        "from sklearn.preprocessing import StandardScaler\n",
        "from sklearn.pipeline import Pipeline"
      ],
      "execution_count": 28,
      "outputs": []
    },
    {
      "cell_type": "code",
      "metadata": {
        "id": "IPVGKAPVrDVV",
        "colab_type": "code",
        "colab": {}
      },
      "source": [
        "def mlp_test(X_train, y_train, cv = 10):\n",
        "  np.random.seed(0)\n",
        "\n",
        "  mlp = MLPClassifier()\n",
        "  scaler = StandardScaler()\n",
        "\n",
        "  pipe = Pipeline([('scaler', scaler), ('mlp', mlp)])\n",
        "\n",
        "  cv_scores = cross_val_score(pipe, X_train, y_train, scoring = 'accuracy', cv = cv, n_jobs = -1)\n",
        "  print('Average of ', cv,  'tests: ', cv_scores.mean())\n",
        "  return cv_scores.mean()"
      ],
      "execution_count": 29,
      "outputs": []
    },
    {
      "cell_type": "code",
      "metadata": {
        "colab_type": "code",
        "id": "OXxF_wBU1zxp",
        "colab": {
          "base_uri": "https://localhost:8080/",
          "height": 34
        },
        "outputId": "4fa79a4d-8e77-4049-d8ab-a41f95730a60"
      },
      "source": [
        "res = mlp_test(X_train, y_train)"
      ],
      "execution_count": 30,
      "outputs": [
        {
          "output_type": "stream",
          "text": [
            "Average of  10 tests:  0.7508989952406134\n"
          ],
          "name": "stdout"
        }
      ]
    },
    {
      "cell_type": "code",
      "metadata": {
        "colab_type": "code",
        "id": "aMBqZpQR1zyC",
        "colab": {}
      },
      "source": [
        "# updating results\n",
        "all_models = np.append(all_models, \"MLP\")\n",
        "all_scores = np.append(all_scores, res)"
      ],
      "execution_count": 31,
      "outputs": []
    },
    {
      "cell_type": "markdown",
      "metadata": {
        "id": "mZDBC32VilkB",
        "colab_type": "text"
      },
      "source": [
        "### 6.Keras Sequential Model"
      ]
    },
    {
      "cell_type": "markdown",
      "metadata": {
        "id": "aY-eJIcaiNRl",
        "colab_type": "text"
      },
      "source": [
        "Link for documentation: https://keras.io/guides/sequential_model/"
      ]
    },
    {
      "cell_type": "code",
      "metadata": {
        "id": "Df25c3IvnZm_",
        "colab_type": "code",
        "colab": {
          "base_uri": "https://localhost:8080/",
          "height": 34
        },
        "outputId": "f22ac6a6-e98c-44cc-dde6-55e269753b04"
      },
      "source": [
        "import tensorflow as tf\n",
        "from keras.models import Sequential\n",
        "from keras.layers import Dense"
      ],
      "execution_count": 32,
      "outputs": [
        {
          "output_type": "stream",
          "text": [
            "Using TensorFlow backend.\n"
          ],
          "name": "stderr"
        }
      ]
    },
    {
      "cell_type": "code",
      "metadata": {
        "id": "Wn1iY3MKlUlK",
        "colab_type": "code",
        "colab": {}
      },
      "source": [
        "# define the keras model\n",
        "model = Sequential()\n",
        "\n",
        "# 8 input features (input_dim)\n",
        "model.add(Dense(12, input_dim=8, activation='relu'))\n",
        "\n",
        "model.add(Dense(8, activation='relu'))\n",
        "\n",
        "# last layer must be activated with sigmoid or softmax since we want results in (0, 1) range (probabilities)\n",
        "model.add(Dense(1, activation='sigmoid'))\n",
        "\n",
        "# compile the keras model, choose metrics\n",
        "model.compile(loss='binary_crossentropy', optimizer='adam', metrics=['accuracy'])"
      ],
      "execution_count": 33,
      "outputs": []
    },
    {
      "cell_type": "code",
      "metadata": {
        "id": "paS38ixtkugO",
        "colab_type": "code",
        "colab": {
          "base_uri": "https://localhost:8080/",
          "height": 34
        },
        "outputId": "6c512274-80bc-4bb4-ae6e-4099a3ed11ab"
      },
      "source": [
        "# fit the keras model on the dataset\n",
        "model.fit(X_train, y_train, epochs=200, batch_size=10, verbose = 0)"
      ],
      "execution_count": 34,
      "outputs": [
        {
          "output_type": "execute_result",
          "data": {
            "text/plain": [
              "<keras.callbacks.callbacks.History at 0x7fcab9e8de10>"
            ]
          },
          "metadata": {
            "tags": []
          },
          "execution_count": 34
        }
      ]
    },
    {
      "cell_type": "code",
      "metadata": {
        "id": "IPb-_sMfnY0_",
        "colab_type": "code",
        "colab": {
          "base_uri": "https://localhost:8080/",
          "height": 51
        },
        "outputId": "9e3a20d9-7f45-4882-87f4-599d260ad9cf"
      },
      "source": [
        "# evaluate model\n",
        "test_loss, res = model.evaluate(X_test, y_test)\n",
        "round(test_loss, 4), round(res, 4)"
      ],
      "execution_count": 35,
      "outputs": [
        {
          "output_type": "stream",
          "text": [
            "154/154 [==============================] - 0s 116us/step\n"
          ],
          "name": "stdout"
        },
        {
          "output_type": "execute_result",
          "data": {
            "text/plain": [
              "(0.4445, 0.7857)"
            ]
          },
          "metadata": {
            "tags": []
          },
          "execution_count": 35
        }
      ]
    },
    {
      "cell_type": "code",
      "metadata": {
        "colab_type": "code",
        "id": "vBD1x3282o2i",
        "colab": {}
      },
      "source": [
        "# updating results\n",
        "all_models = np.append(all_models, \"Keras trained\")\n",
        "all_scores = np.append(all_scores, res)"
      ],
      "execution_count": 36,
      "outputs": []
    },
    {
      "cell_type": "code",
      "metadata": {
        "id": "UIXhTzhokubn",
        "colab_type": "code",
        "colab": {
          "base_uri": "https://localhost:8080/",
          "height": 102
        },
        "outputId": "b36e5d34-883f-4af4-c4fa-9c398b961b66"
      },
      "source": [
        "# predict classes with the model\n",
        "# class 0 : no diabetes \n",
        "# class 1 : diabetes predicted :(\n",
        "predict_class = model.predict_classes(X_test)\n",
        "predict_class[10:15]"
      ],
      "execution_count": 37,
      "outputs": [
        {
          "output_type": "execute_result",
          "data": {
            "text/plain": [
              "array([[0],\n",
              "       [0],\n",
              "       [0],\n",
              "       [0],\n",
              "       [1]], dtype=int32)"
            ]
          },
          "metadata": {
            "tags": []
          },
          "execution_count": 37
        }
      ]
    },
    {
      "cell_type": "code",
      "metadata": {
        "id": "k8PBWdyIwX_-",
        "colab_type": "code",
        "colab": {
          "base_uri": "https://localhost:8080/",
          "height": 102
        },
        "outputId": "69675fd6-74bc-40ef-b9cb-7ce884f2116b"
      },
      "source": [
        "# predict probabilities on test data\n",
        "y_pred = model.predict(X_test)\n",
        "y_pred[0:5]"
      ],
      "execution_count": 38,
      "outputs": [
        {
          "output_type": "execute_result",
          "data": {
            "text/plain": [
              "array([[0.07095709],\n",
              "       [0.06524929],\n",
              "       [0.05499297],\n",
              "       [0.3260594 ],\n",
              "       [0.5726539 ]], dtype=float32)"
            ]
          },
          "metadata": {
            "tags": []
          },
          "execution_count": 38
        }
      ]
    },
    {
      "cell_type": "code",
      "metadata": {
        "id": "IjKf5vpGxTI0",
        "colab_type": "code",
        "colab": {
          "base_uri": "https://localhost:8080/",
          "height": 357
        },
        "outputId": "331cf9f6-50de-4596-e7a5-71faf02c16a7"
      },
      "source": [
        "# we will need this to calculate confusion matrix\n",
        "rounded = [round(x[0]) for x in y_pred]\n",
        "rounded[0:20]"
      ],
      "execution_count": 39,
      "outputs": [
        {
          "output_type": "execute_result",
          "data": {
            "text/plain": [
              "[0.0,\n",
              " 0.0,\n",
              " 0.0,\n",
              " 0.0,\n",
              " 1.0,\n",
              " 0.0,\n",
              " 1.0,\n",
              " 0.0,\n",
              " 0.0,\n",
              " 0.0,\n",
              " 0.0,\n",
              " 0.0,\n",
              " 0.0,\n",
              " 0.0,\n",
              " 1.0,\n",
              " 0.0,\n",
              " 0.0,\n",
              " 0.0,\n",
              " 0.0,\n",
              " 1.0]"
            ]
          },
          "metadata": {
            "tags": []
          },
          "execution_count": 39
        }
      ]
    },
    {
      "cell_type": "code",
      "metadata": {
        "id": "Hme6c6zokuUr",
        "colab_type": "code",
        "colab": {
          "base_uri": "https://localhost:8080/",
          "height": 357
        },
        "outputId": "b48e545b-387e-46e1-ea0d-f951ab31cf97"
      },
      "source": [
        "# summarize the first n cases\n",
        "n = 5\n",
        "for i in range(n):\n",
        "\tprint('%s => \\n %d (expected %d)\\n\\n' % (X_test.iloc[i, ].tolist(), rounded[i], y_test.iloc[i]))"
      ],
      "execution_count": 40,
      "outputs": [
        {
          "output_type": "stream",
          "text": [
            "[2.0, 56.0, 56.0, 28.0, 45.0, 24.2, 0.332, 22.0] => \n",
            " 0 (expected 0)\n",
            "\n",
            "\n",
            "[1.0, 92.0, 62.0, 25.0, 41.0, 19.5, 0.48200000000000004, 25.0] => \n",
            " 0 (expected 0)\n",
            "\n",
            "\n",
            "[1.0, 100.0, 74.0, 12.0, 46.0, 19.5, 0.149, 28.0] => \n",
            " 0 (expected 0)\n",
            "\n",
            "\n",
            "[7.0, 97.0, 76.0, 32.0, 91.0, 40.9, 0.871, 32.0] => \n",
            " 0 (expected 1)\n",
            "\n",
            "\n",
            "[6.0, 151.0, 62.0, 31.0, 120.0, 35.5, 0.6920000000000001, 28.0] => \n",
            " 1 (expected 0)\n",
            "\n",
            "\n"
          ],
          "name": "stdout"
        }
      ]
    },
    {
      "cell_type": "code",
      "metadata": {
        "id": "1qEOPGBK3Qdt",
        "colab_type": "code",
        "colab": {}
      },
      "source": [
        "# input to confusion_matrix must be an array of int (rounded)\n",
        "# obviously, we can only call confusion_matrix once we already called the fit method on the model\n",
        "matrix = confusion_matrix(y_test, rounded)"
      ],
      "execution_count": 41,
      "outputs": []
    },
    {
      "cell_type": "code",
      "metadata": {
        "id": "_eeEPVu3ELMq",
        "colab_type": "code",
        "colab": {
          "base_uri": "https://localhost:8080/",
          "height": 51
        },
        "outputId": "3b196648-3f24-48ea-84de-d119928619c0"
      },
      "source": [
        "matrix"
      ],
      "execution_count": 42,
      "outputs": [
        {
          "output_type": "execute_result",
          "data": {
            "text/plain": [
              "array([[94,  6],\n",
              "       [27, 27]])"
            ]
          },
          "metadata": {
            "tags": []
          },
          "execution_count": 42
        }
      ]
    },
    {
      "cell_type": "markdown",
      "metadata": {
        "id": "Ebkjn-S830g3",
        "colab_type": "text"
      },
      "source": [
        "### Comparing Models"
      ]
    },
    {
      "cell_type": "code",
      "metadata": {
        "id": "aU2cjQwP377u",
        "colab_type": "code",
        "colab": {
          "base_uri": "https://localhost:8080/",
          "height": 68
        },
        "outputId": "3e1d8050-85c8-4a0b-ee77-1d26ab904d35"
      },
      "source": [
        "# check models and scores arrays\n",
        "all_models, all_scores"
      ],
      "execution_count": 43,
      "outputs": [
        {
          "output_type": "execute_result",
          "data": {
            "text/plain": [
              "(array(['SVM', 'ETC', 'RFC', 'XGB', 'MLP', 'Keras trained'], dtype='<U32'),\n",
              " array([0.57001586, 0.7296404 , 0.7460074 , 0.74925965, 0.750899  ,\n",
              "        0.78571427]))"
            ]
          },
          "metadata": {
            "tags": []
          },
          "execution_count": 43
        }
      ]
    },
    {
      "cell_type": "code",
      "metadata": {
        "id": "QbuJrgjWvQbd",
        "colab_type": "code",
        "colab": {
          "base_uri": "https://localhost:8080/",
          "height": 265
        },
        "outputId": "37bf9674-1104-4c25-96c7-bebbab532c0f"
      },
      "source": [
        "# plot model results\n",
        "\n",
        "fig, ax = plt.subplots()\n",
        "ax.barh(all_models, all_scores)\n",
        "plt.xlim(0, 1)\n",
        "for index, value in enumerate(all_scores):\n",
        "    plt.text(value, index, str(round(value, 4)), fontsize = 12)"
      ],
      "execution_count": 44,
      "outputs": [
        {
          "output_type": "display_data",
          "data": {
            "image/png": "[encoded data removed]",
            "text/plain": [
              "<Figure size 432x288 with 1 Axes>"
            ]
          },
          "metadata": {
            "tags": [],
            "needs_background": "light"
          }
        }
      ]
    },
    {
      "cell_type": "code",
      "metadata": {
        "id": "0Ilme44l4jkP",
        "colab_type": "code",
        "colab": {}
      },
      "source": [
        "best_model = all_models[all_scores.argmax()]"
      ],
      "execution_count": 45,
      "outputs": []
    },
    {
      "cell_type": "code",
      "metadata": {
        "id": "OKaAEbzc8hg7",
        "colab_type": "code",
        "colab": {
          "base_uri": "https://localhost:8080/",
          "height": 35
        },
        "outputId": "c5b89e62-fbfc-47d2-b49e-4cd8f69bb0c1"
      },
      "source": [
        "# this is just a string, it doesn't contain the model parameters\n",
        "best_model"
      ],
      "execution_count": 46,
      "outputs": [
        {
          "output_type": "execute_result",
          "data": {
            "application/vnd.google.colaboratory.intrinsic": {
              "type": "string"
            },
            "text/plain": [
              "'Keras trained'"
            ]
          },
          "metadata": {
            "tags": []
          },
          "execution_count": 46
        }
      ]
    },
    {
      "cell_type": "markdown",
      "metadata": {
        "id": "Bqdqq0jq82Je",
        "colab_type": "text"
      },
      "source": [
        "### Training best model"
      ]
    },
    {
      "cell_type": "code",
      "metadata": {
        "id": "wDbVpgfe89Ry",
        "colab_type": "code",
        "colab": {}
      },
      "source": [
        "# Defining model\n",
        "mlp = MLPClassifier()\n",
        "\n",
        "# using a scaler, since it is a neural network\n",
        "scaler = StandardScaler()\n",
        "\n",
        "# creating the pipeline with scaler and then MLP\n",
        "pipe = Pipeline([('scaler', scaler), ('mlp', mlp)])"
      ],
      "execution_count": 47,
      "outputs": []
    },
    {
      "cell_type": "code",
      "metadata": {
        "id": "wyxkr8Kh-Q9g",
        "colab_type": "code",
        "colab": {
          "base_uri": "https://localhost:8080/",
          "height": 343
        },
        "outputId": "10b1fb13-edcf-4e5c-f29a-f21bb5ea02ee"
      },
      "source": [
        "# fit/train the algorithm on the train data\n",
        "pipe.fit(X_train, y_train)"
      ],
      "execution_count": 48,
      "outputs": [
        {
          "output_type": "stream",
          "text": [
            "/usr/local/lib/python3.6/dist-packages/sklearn/neural_network/_multilayer_perceptron.py:571: ConvergenceWarning: Stochastic Optimizer: Maximum iterations (200) reached and the optimization hasn't converged yet.\n",
            "  % self.max_iter, ConvergenceWarning)\n"
          ],
          "name": "stderr"
        },
        {
          "output_type": "execute_result",
          "data": {
            "text/plain": [
              "Pipeline(memory=None,\n",
              "         steps=[('scaler',\n",
              "                 StandardScaler(copy=True, with_mean=True, with_std=True)),\n",
              "                ('mlp',\n",
              "                 MLPClassifier(activation='relu', alpha=0.0001,\n",
              "                               batch_size='auto', beta_1=0.9, beta_2=0.999,\n",
              "                               early_stopping=False, epsilon=1e-08,\n",
              "                               hidden_layer_sizes=(100,),\n",
              "                               learning_rate='constant',\n",
              "                               learning_rate_init=0.001, max_fun=15000,\n",
              "                               max_iter=200, momentum=0.9, n_iter_no_change=10,\n",
              "                               nesterovs_momentum=True, power_t=0.5,\n",
              "                               random_state=None, shuffle=True, solver='adam',\n",
              "                               tol=0.0001, validation_fraction=0.1,\n",
              "                               verbose=False, warm_start=False))],\n",
              "         verbose=False)"
            ]
          },
          "metadata": {
            "tags": []
          },
          "execution_count": 48
        }
      ]
    },
    {
      "cell_type": "markdown",
      "metadata": {
        "id": "LkPj9ukLfNY8",
        "colab_type": "text"
      },
      "source": [
        "# Making predictions"
      ]
    },
    {
      "cell_type": "code",
      "metadata": {
        "id": "5E1vZTO_-QyF",
        "colab_type": "code",
        "colab": {
          "base_uri": "https://localhost:8080/",
          "height": 136
        },
        "outputId": "244d6e66-04f3-422c-cf50-1d024ce1d27b"
      },
      "source": [
        "# predict classes with the model\n",
        "# class 0 : no diabetes \n",
        "# class 1 : diabetes predicted :(\n",
        "y_pred = pipe.predict(X_test)\n",
        "y_pred"
      ],
      "execution_count": 49,
      "outputs": [
        {
          "output_type": "execute_result",
          "data": {
            "text/plain": [
              "array([0, 0, 0, 1, 1, 0, 1, 0, 0, 0, 0, 0, 0, 0, 1, 0, 1, 1, 0, 1, 0, 0,\n",
              "       0, 1, 0, 1, 1, 0, 0, 0, 0, 0, 1, 0, 1, 0, 1, 0, 0, 0, 0, 0, 1, 0,\n",
              "       1, 1, 0, 0, 1, 0, 1, 0, 0, 1, 0, 1, 0, 0, 0, 0, 0, 0, 1, 0, 0, 1,\n",
              "       0, 0, 0, 0, 0, 1, 0, 0, 0, 0, 0, 0, 0, 1, 0, 1, 1, 0, 1, 1, 0, 0,\n",
              "       1, 0, 0, 0, 0, 1, 1, 0, 1, 1, 0, 0, 1, 0, 0, 0, 0, 0, 1, 1, 0, 0,\n",
              "       0, 0, 0, 1, 0, 0, 0, 1, 0, 0, 1, 0, 1, 0, 1, 0, 0, 1, 0, 0, 0, 1,\n",
              "       0, 0, 1, 1, 0, 0, 0, 1, 0, 0, 1, 0, 0, 0, 0, 0, 1, 0, 0, 1, 0, 0])"
            ]
          },
          "metadata": {
            "tags": []
          },
          "execution_count": 49
        }
      ]
    },
    {
      "cell_type": "code",
      "metadata": {
        "id": "W5-G9Tx1-QdN",
        "colab_type": "code",
        "colab": {
          "base_uri": "https://localhost:8080/",
          "height": 136
        },
        "outputId": "d72b6aaa-d845-459a-a047-26f18112e792"
      },
      "source": [
        "pipe.predict_proba(X_train)"
      ],
      "execution_count": 50,
      "outputs": [
        {
          "output_type": "execute_result",
          "data": {
            "text/plain": [
              "array([[0.07535198, 0.92464802],\n",
              "       [0.95430769, 0.04569231],\n",
              "       [0.74066042, 0.25933958],\n",
              "       ...,\n",
              "       [0.97866247, 0.02133753],\n",
              "       [0.55819185, 0.44180815],\n",
              "       [0.60431826, 0.39568174]])"
            ]
          },
          "metadata": {
            "tags": []
          },
          "execution_count": 50
        }
      ]
    },
    {
      "cell_type": "code",
      "metadata": {
        "id": "9Lo74iBaCQ64",
        "colab_type": "code",
        "colab": {
          "base_uri": "https://localhost:8080/",
          "height": 34
        },
        "outputId": "0d6aae7e-024b-4d06-bcd8-0e7163e6a42b"
      },
      "source": [
        "res = pipe.score(X_test, y_test)\n",
        "res"
      ],
      "execution_count": 51,
      "outputs": [
        {
          "output_type": "execute_result",
          "data": {
            "text/plain": [
              "0.8376623376623377"
            ]
          },
          "metadata": {
            "tags": []
          },
          "execution_count": 51
        }
      ]
    },
    {
      "cell_type": "code",
      "metadata": {
        "id": "o9KYLFne_a1S",
        "colab_type": "code",
        "colab": {
          "base_uri": "https://localhost:8080/",
          "height": 51
        },
        "outputId": "c7e7f544-426d-40bf-fbdb-4870d682db05"
      },
      "source": [
        "# now that we trained (fit) the model, we can calculate the confusion matrix\n",
        "cm = confusion_matrix(y_pred, y_test)\n",
        "cm"
      ],
      "execution_count": 52,
      "outputs": [
        {
          "output_type": "execute_result",
          "data": {
            "text/plain": [
              "array([[90, 15],\n",
              "       [10, 39]])"
            ]
          },
          "metadata": {
            "tags": []
          },
          "execution_count": 52
        }
      ]
    },
    {
      "cell_type": "markdown",
      "metadata": {
        "id": "h3gPzR4oLtHp",
        "colab_type": "text"
      },
      "source": [
        "# Last results"
      ]
    },
    {
      "cell_type": "code",
      "metadata": {
        "id": "f4O5GQsgBz_2",
        "colab_type": "code",
        "colab": {}
      },
      "source": [
        "# updating results (appending trained model)\n",
        "all_models = np.append(all_models, \"MLP trained\")\n",
        "all_scores = np.append(all_scores, res)"
      ],
      "execution_count": 53,
      "outputs": []
    },
    {
      "cell_type": "code",
      "metadata": {
        "id": "QgmiLDjwDU8H",
        "colab_type": "code",
        "colab": {
          "base_uri": "https://localhost:8080/",
          "height": 85
        },
        "outputId": "cb4ac6bb-fa00-45f8-8c97-36727221c23f"
      },
      "source": [
        "all_models, all_scores"
      ],
      "execution_count": 54,
      "outputs": [
        {
          "output_type": "execute_result",
          "data": {
            "text/plain": [
              "(array(['SVM', 'ETC', 'RFC', 'XGB', 'MLP', 'Keras trained', 'MLP trained'],\n",
              "       dtype='<U32'),\n",
              " array([0.57001586, 0.7296404 , 0.7460074 , 0.74925965, 0.750899  ,\n",
              "        0.78571427, 0.83766234]))"
            ]
          },
          "metadata": {
            "tags": []
          },
          "execution_count": 54
        }
      ]
    },
    {
      "cell_type": "code",
      "metadata": {
        "id": "v6aFdvBzDkT8",
        "colab_type": "code",
        "colab": {
          "base_uri": "https://localhost:8080/",
          "height": 281
        },
        "outputId": "994eb311-ada7-4e6b-9a08-6165ee4c3c2e"
      },
      "source": [
        "# plot model results with trained model\n",
        "\n",
        "fig, ax = plt.subplots()\n",
        "ax.barh(all_models, all_scores)\n",
        "plt.xlim(0, 1)\n",
        "plt.title(\"Diabetes prediction: Model vs Accuracy\")\n",
        "for index, value in enumerate(all_scores):\n",
        "    plt.text(value, index, str(round(value, 4)), fontsize = 12)"
      ],
      "execution_count": 55,
      "outputs": [
        {
          "output_type": "display_data",
          "data": {
            "image/png": "[encoded data removed]",
            "text/plain": [
              "<Figure size 432x288 with 1 Axes>"
            ]
          },
          "metadata": {
            "tags": [],
            "needs_background": "light"
          }
        }
      ]
    }
  ]
}